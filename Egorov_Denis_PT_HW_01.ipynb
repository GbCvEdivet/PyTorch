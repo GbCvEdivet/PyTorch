{
 "cells": [
  {
   "cell_type": "code",
   "execution_count": 1,
   "metadata": {},
   "outputs": [],
   "source": [
    "import torch"
   ]
  },
  {
   "cell_type": "markdown",
   "metadata": {},
   "source": [
    "### Создайте случайный FloatTensor размера 3x4x5"
   ]
  },
  {
   "cell_type": "code",
   "execution_count": 8,
   "metadata": {},
   "outputs": [
    {
     "data": {
      "text/plain": [
       "tensor([[[ 2.2775e-01, -1.7575e+00, -6.9414e-01,  2.5158e-01, -1.6170e+00],\n",
       "         [-5.7248e-01, -6.7898e-01,  4.9036e-01,  1.2480e+00, -6.6254e-01],\n",
       "         [ 7.3508e-01,  8.3365e-01,  7.9081e-01, -8.9354e-01,  5.9677e-01],\n",
       "         [ 6.1355e-04,  1.2960e+00, -9.0416e-01,  4.1603e-01, -1.7825e+00]],\n",
       "\n",
       "        [[-1.0836e+00, -6.7051e-01, -9.0605e-01,  9.4856e-01,  4.8031e-01],\n",
       "         [-9.2044e-01,  1.2211e+00,  1.2369e+00,  1.0620e+00, -1.5478e-01],\n",
       "         [-9.0824e-01,  3.4667e-01,  2.0580e+00,  5.1930e-02, -3.2741e-01],\n",
       "         [-7.4248e-01, -2.7950e-01, -9.3483e-01,  4.9932e-02,  5.8730e-01]],\n",
       "\n",
       "        [[ 1.4051e+00, -5.6336e-01,  6.1561e-01, -1.2298e+00,  3.5637e-01],\n",
       "         [ 2.6175e-01,  1.3565e+00,  3.7547e-01, -1.5476e+00, -3.2211e-01],\n",
       "         [-6.1987e-01, -3.3842e-01,  2.0048e-01,  9.4933e-01,  1.4922e-01],\n",
       "         [ 3.6626e-01, -1.7415e+00,  6.8095e-01, -5.1732e-01, -1.8673e-01]]])"
      ]
     },
     "execution_count": 8,
     "metadata": {},
     "output_type": "execute_result"
    }
   ],
   "source": [
    "my_tensor = torch.randn(3, 4, 5)\n",
    "my_tensor"
   ]
  },
  {
   "cell_type": "markdown",
   "metadata": {},
   "source": [
    "### Выведите его форму (shape)"
   ]
  },
  {
   "cell_type": "code",
   "execution_count": 9,
   "metadata": {},
   "outputs": [
    {
     "data": {
      "text/plain": [
       "torch.Size([3, 4, 5])"
      ]
     },
     "execution_count": 9,
     "metadata": {},
     "output_type": "execute_result"
    }
   ],
   "source": [
    "my_tensor.shape"
   ]
  },
  {
   "cell_type": "markdown",
   "metadata": {},
   "source": [
    "### Приведите его к форме 6х10"
   ]
  },
  {
   "cell_type": "code",
   "execution_count": 10,
   "metadata": {},
   "outputs": [
    {
     "data": {
      "text/plain": [
       "torch.Size([6, 10])"
      ]
     },
     "execution_count": 10,
     "metadata": {},
     "output_type": "execute_result"
    }
   ],
   "source": [
    "my_tensor = my_tensor.reshape(6, 10)\n",
    "# или my_tensor = torch.reshape(my_tensor, (6, 10))\n",
    "my_tensor.shape"
   ]
  },
  {
   "cell_type": "markdown",
   "metadata": {},
   "source": [
    "### Создайте случайный IntTensor размера 10"
   ]
  },
  {
   "cell_type": "code",
   "execution_count": 20,
   "metadata": {},
   "outputs": [],
   "source": [
    "new_tensor = torch.randint(100, (10,))"
   ]
  },
  {
   "cell_type": "code",
   "execution_count": 21,
   "metadata": {},
   "outputs": [
    {
     "data": {
      "text/plain": [
       "tensor([ 6, 93, 61, 85, 97, 78, 34, 34, 33, 59])"
      ]
     },
     "execution_count": 21,
     "metadata": {},
     "output_type": "execute_result"
    }
   ],
   "source": [
    "new_tensor"
   ]
  },
  {
   "cell_type": "markdown",
   "metadata": {},
   "source": [
    "### Умножьте созданный FloatTensor на созданный IntTensor поэлементно"
   ]
  },
  {
   "cell_type": "code",
   "execution_count": 22,
   "metadata": {},
   "outputs": [
    {
     "data": {
      "text/plain": [
       "tensor([[ 1.3665e+00, -1.6345e+02, -4.2343e+01,  2.1384e+01, -1.5685e+02,\n",
       "         -4.4654e+01, -2.3085e+01,  1.6672e+01,  4.1183e+01, -3.9090e+01],\n",
       "        [ 4.4105e+00,  7.7530e+01,  4.8239e+01, -7.5951e+01,  5.7886e+01,\n",
       "          4.7857e-02,  4.4065e+01, -3.0742e+01,  1.3729e+01, -1.0517e+02],\n",
       "        [-6.5015e+00, -6.2358e+01, -5.5269e+01,  8.0628e+01,  4.6590e+01,\n",
       "         -7.1794e+01,  4.1518e+01,  4.2055e+01,  3.5045e+01, -9.1318e+00],\n",
       "        [-5.4494e+00,  3.2241e+01,  1.2554e+02,  4.4140e+00, -3.1759e+01,\n",
       "         -5.7914e+01, -9.5031e+00, -3.1784e+01,  1.6478e+00,  3.4651e+01],\n",
       "        [ 8.4304e+00, -5.2393e+01,  3.7552e+01, -1.0453e+02,  3.4568e+01,\n",
       "          2.0417e+01,  4.6122e+01,  1.2766e+01, -5.1070e+01, -1.9004e+01],\n",
       "        [-3.7192e+00, -3.1473e+01,  1.2229e+01,  8.0693e+01,  1.4475e+01,\n",
       "          2.8568e+01, -5.9211e+01,  2.3152e+01, -1.7072e+01, -1.1017e+01]])"
      ]
     },
     "execution_count": 22,
     "metadata": {},
     "output_type": "execute_result"
    }
   ],
   "source": [
    "mul_res = my_tensor * new_tensor\n",
    "mul_res"
   ]
  },
  {
   "cell_type": "code",
   "execution_count": 23,
   "metadata": {},
   "outputs": [],
   "source": [
    "mul_res2 = torch.mul(my_tensor, new_tensor)"
   ]
  },
  {
   "cell_type": "code",
   "execution_count": 31,
   "metadata": {},
   "outputs": [
    {
     "data": {
      "text/plain": [
       "tensor([[True, True, True, True, True, True, True, True, True, True],\n",
       "        [True, True, True, True, True, True, True, True, True, True],\n",
       "        [True, True, True, True, True, True, True, True, True, True],\n",
       "        [True, True, True, True, True, True, True, True, True, True],\n",
       "        [True, True, True, True, True, True, True, True, True, True],\n",
       "        [True, True, True, True, True, True, True, True, True, True]])"
      ]
     },
     "execution_count": 31,
     "metadata": {},
     "output_type": "execute_result"
    }
   ],
   "source": [
    "mul_res == mul_res2"
   ]
  },
  {
   "cell_type": "markdown",
   "metadata": {},
   "source": [
    "### Умножьте тензор матрично на себя, чтобы результат был размерности 6x6 Подсказка: .dot может не подойти"
   ]
  },
  {
   "cell_type": "code",
   "execution_count": 32,
   "metadata": {},
   "outputs": [],
   "source": [
    "sqr = torch.matmul(my_tensor, my_tensor.T)"
   ]
  },
  {
   "cell_type": "code",
   "execution_count": 33,
   "metadata": {},
   "outputs": [
    {
     "data": {
      "text/plain": [
       "torch.Size([6, 6])"
      ]
     },
     "execution_count": 33,
     "metadata": {},
     "output_type": "execute_result"
    }
   ],
   "source": [
    "sqr.shape"
   ]
  },
  {
   "cell_type": "code",
   "execution_count": 34,
   "metadata": {},
   "outputs": [
    {
     "data": {
      "text/plain": [
       "tensor([[ 9.3261, -2.6599,  2.7547, -1.8725, -2.6076,  1.0967],\n",
       "        [-2.6599,  8.8628, -1.4516,  0.4635,  3.7106, -4.0933],\n",
       "        [ 2.7547, -1.4516,  8.5952, -2.0730, -2.4116, -0.4527],\n",
       "        [-1.8725,  0.4635, -2.0730,  7.1410, -1.5760,  0.3015],\n",
       "        [-2.6076,  3.7106, -2.4116, -1.5760,  8.8583, -2.8213],\n",
       "        [ 1.0967, -4.0933, -0.4527,  0.3015, -2.8213,  5.3956]])"
      ]
     },
     "execution_count": 34,
     "metadata": {},
     "output_type": "execute_result"
    }
   ],
   "source": [
    "sqr"
   ]
  },
  {
   "cell_type": "markdown",
   "metadata": {},
   "source": [
    "### Посчитайте производную функции y = x**3 + z - 75t в точке (1, 0.5, 2)"
   ]
  },
  {
   "cell_type": "code",
   "execution_count": 50,
   "metadata": {},
   "outputs": [
    {
     "name": "stdout",
     "output_type": "stream",
     "text": [
      "Gradient of x: 3.0\n",
      "Gradient of z: 1.0\n",
      "Gradient of t: -75.0\n"
     ]
    }
   ],
   "source": [
    "x = torch.tensor([1.], requires_grad=True)\n",
    "z = torch.tensor([0.5], requires_grad=True)\n",
    "t = torch.tensor([2.], requires_grad=True)\n",
    "\n",
    "y = x ** 3 + z - 75 * t\n",
    "\n",
    "y.backward()\n",
    "\n",
    "grad_x = x.grad.item()\n",
    "grad_z = z.grad.item()\n",
    "grad_t = t.grad.item()\n",
    "\n",
    "print(\"Gradient of x:\", grad_x)\n",
    "print(\"Gradient of z:\", grad_z)\n",
    "print(\"Gradient of t:\", grad_t)\n"
   ]
  },
  {
   "cell_type": "markdown",
   "metadata": {},
   "source": [
    "### Создайте единичный тензор размера 5x6"
   ]
  },
  {
   "cell_type": "markdown",
   "metadata": {},
   "source": [
    "Едини́чная ма́трица — квадратная матрица, элементы главной диагонали которой равны единице, а остальные поля равны нулю."
   ]
  },
  {
   "cell_type": "code",
   "execution_count": 59,
   "metadata": {},
   "outputs": [
    {
     "data": {
      "text/plain": [
       "tensor([[1., 0., 0., 0., 0., 0.],\n",
       "        [0., 1., 0., 0., 0., 0.],\n",
       "        [0., 0., 1., 0., 0., 0.],\n",
       "        [0., 0., 0., 1., 0., 0.],\n",
       "        [0., 0., 0., 0., 1., 0.]])"
      ]
     },
     "execution_count": 59,
     "metadata": {},
     "output_type": "execute_result"
    }
   ],
   "source": [
    "one_tensor = torch.eye(5, 6)\n",
    "one_tensor"
   ]
  },
  {
   "cell_type": "markdown",
   "metadata": {},
   "source": [
    "### Переведите его в формат numpy"
   ]
  },
  {
   "cell_type": "code",
   "execution_count": 60,
   "metadata": {},
   "outputs": [
    {
     "data": {
      "text/plain": [
       "array([[1., 0., 0., 0., 0., 0.],\n",
       "       [0., 1., 0., 0., 0., 0.],\n",
       "       [0., 0., 1., 0., 0., 0.],\n",
       "       [0., 0., 0., 1., 0., 0.],\n",
       "       [0., 0., 0., 0., 1., 0.]], dtype=float32)"
      ]
     },
     "execution_count": 60,
     "metadata": {},
     "output_type": "execute_result"
    }
   ],
   "source": [
    "one_tensor = one_tensor.numpy()\n",
    "one_tensor"
   ]
  },
  {
   "cell_type": "code",
   "execution_count": null,
   "metadata": {},
   "outputs": [],
   "source": []
  }
 ],
 "metadata": {
  "kernelspec": {
   "display_name": "ML_kernel",
   "language": "python",
   "name": "ml_kernel"
  },
  "language_info": {
   "codemirror_mode": {
    "name": "ipython",
    "version": 3
   },
   "file_extension": ".py",
   "mimetype": "text/x-python",
   "name": "python",
   "nbconvert_exporter": "python",
   "pygments_lexer": "ipython3",
   "version": "3.10.11"
  }
 },
 "nbformat": 4,
 "nbformat_minor": 2
}

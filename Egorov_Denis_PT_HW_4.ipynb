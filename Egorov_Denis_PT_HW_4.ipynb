{
 "cells": [
  {
   "cell_type": "code",
   "execution_count": 26,
   "metadata": {
    "id": "aKzY5e7Pl_OJ"
   },
   "outputs": [],
   "source": [
    "import numpy as np\n",
    "import torch\n",
    "import torchvision\n",
    "\n",
    "from torch import nn\n",
    "from torch.nn import functional as F\n",
    "from PIL import Image\n",
    "from torchvision import transforms, datasets\n",
    "from tqdm import tqdm\n",
    "\n",
    "from sklearn.model_selection import train_test_split"
   ]
  },
  {
   "cell_type": "code",
   "execution_count": 2,
   "metadata": {
    "id": "z0MlYxJJoYVS"
   },
   "outputs": [],
   "source": [
    "import matplotlib.pyplot as plt"
   ]
  },
  {
   "cell_type": "code",
   "execution_count": 3,
   "metadata": {
    "id": "LTfU6B2YrH1K"
   },
   "outputs": [],
   "source": [
    "from torchsummary import summary"
   ]
  },
  {
   "cell_type": "code",
   "execution_count": 4,
   "metadata": {
    "id": "migFLD_3nGvu"
   },
   "outputs": [],
   "source": [
    "def train_valid_split(Xt):\n",
    "    X_train, X_test = train_test_split(Xt, test_size=0.05, random_state=13)\n",
    "    return X_train, X_test"
   ]
  },
  {
   "cell_type": "code",
   "execution_count": 5,
   "metadata": {
    "id": "JG5msqKMnXU0"
   },
   "outputs": [],
   "source": [
    "class MyOwnCifar(torch.utils.data.Dataset):\n",
    "\n",
    "    def __init__(self, init_dataset, transform=None):\n",
    "        self._base_dataset = init_dataset\n",
    "        self.transform = transform\n",
    "\n",
    "    def __len__(self):\n",
    "        return len(self._base_dataset)\n",
    "\n",
    "    def __getitem__(self, idx):\n",
    "        img = self._base_dataset[idx][0]\n",
    "        if self.transform is not None:\n",
    "            img = self.transform(img)\n",
    "        return img, self._base_dataset[idx][1]"
   ]
  },
  {
   "cell_type": "code",
   "execution_count": 41,
   "metadata": {
    "id": "WoemFmshtp-m"
   },
   "outputs": [],
   "source": [
    "def train_my_net(net, criterion, optimizer, num_epochs):\n",
    "  train_acc = []\n",
    "  test_acc = []\n",
    "  for epoch in range(num_epochs):\n",
    "      running_loss = 0.0\n",
    "      running_items = 0.0\n",
    "      running_loss_test = 0.0\n",
    "      running_items_test = 0.0\n",
    "      running_right = 0.0\n",
    "      running_right_test = 0.0\n",
    "\n",
    "      net.train()\n",
    "      for i, data in enumerate(train_loader):\n",
    "          inputs, labels = data[0].to(device), data[1].to(device)\n",
    "          # Обнуляем градиент\n",
    "          optimizer.zero_grad()\n",
    "          # Делаем предсказание\n",
    "          outputs = net(inputs)\n",
    "          # Рассчитываем лосс-функцию\n",
    "          loss = criterion(outputs, labels)\n",
    "          # Делаем шаг назад по лоссу\n",
    "          loss.backward()\n",
    "          # Делаем шаг нашего оптимайзера\n",
    "          optimizer.step()\n",
    "\n",
    "          # выводим статистику о процессе обучения\n",
    "          running_loss += loss.item()\n",
    "          running_items += len(labels)\n",
    "          running_right += (labels == torch.max(outputs, 1)[1]).sum()\n",
    "\n",
    "      running_right = running_right.item()\n",
    "      print(f'Epoch [{epoch + 1}/{num_epochs}]. ' \\\n",
    "            f'Loss_train: {running_loss / (i + 1):.3f}. ' \\\n",
    "            f'Acc: {running_right / running_items:.3f}.', end=' ')\n",
    "      acc = running_right / running_items\n",
    "      train_acc.append(acc)\n",
    "      # print(type(acc), acc, train_acc)\n",
    "      running_loss, running_items, running_right = 0.0, 0.0, 0.0\n",
    "\n",
    "      net.eval()\n",
    "      with torch.no_grad():\n",
    "        for i, data in enumerate(valid_loader):\n",
    "            inputs, labels = data[0].to(device), data[1].to(device)\n",
    "            outputs = net(inputs)\n",
    "            loss = criterion(outputs, labels)\n",
    "\n",
    "            running_loss_test += loss.item()\n",
    "            running_items_test += len(labels)\n",
    "            running_right_test += (labels == torch.max(outputs, 1)[1]).sum()\n",
    "\n",
    "        running_right_test = running_right_test.item()\n",
    "        print(f'Loss_test: {running_loss_test / (i + 1):.3f}. ' \\\n",
    "              f'Acc_test: {running_right_test / running_items_test:.3f}')\n",
    "        test_acc.append(running_right_test / running_items_test)\n",
    "        running_loss_test, running_items_test, running_right_test = 0.0, 0.0, 0.0\n",
    "\n",
    "  print('Training is finished!')\n",
    "\n",
    "  return train_acc, test_acc"
   ]
  },
  {
   "cell_type": "code",
   "execution_count": 7,
   "metadata": {
    "colab": {
     "base_uri": "https://localhost:8080/"
    },
    "id": "264imjIXm2r5",
    "outputId": "5c7c72ee-852f-47e3-8d10-225c31099d1b"
   },
   "outputs": [
    {
     "name": "stdout",
     "output_type": "stream",
     "text": [
      "Files already downloaded and verified\n"
     ]
    }
   ],
   "source": [
    "dataset = datasets.CIFAR100(root='data/', train=True, download=True)"
   ]
  },
  {
   "cell_type": "code",
   "execution_count": 8,
   "metadata": {
    "colab": {
     "base_uri": "https://localhost:8080/",
     "height": 448
    },
    "id": "ZNkZlHfDnivZ",
    "outputId": "817ccf29-910d-4401-bfc3-884323490451"
   },
   "outputs": [
    {
     "data": {
      "text/plain": [
       "<matplotlib.image.AxesImage at 0x7a4c266f6230>"
      ]
     },
     "execution_count": 8,
     "metadata": {},
     "output_type": "execute_result"
    },
    {
     "data": {
      "image/png": "[encoded data removed]",
      "text/plain": [
       "<Figure size 640x480 with 1 Axes>"
      ]
     },
     "metadata": {},
     "output_type": "display_data"
    }
   ],
   "source": [
    "plt.imshow(dataset[0][0])"
   ]
  },
  {
   "cell_type": "code",
   "execution_count": 9,
   "metadata": {
    "id": "IMbw2C1Fo5H5"
   },
   "outputs": [],
   "source": [
    "trans_actions = transforms.Compose([transforms.Resize(44),\n",
    "                                    transforms.RandomCrop(32, padding=4),\n",
    "                                    transforms.ToTensor()])"
   ]
  },
  {
   "cell_type": "code",
   "execution_count": 10,
   "metadata": {
    "id": "04Y-Lwh2o5iA"
   },
   "outputs": [],
   "source": [
    "train_dataset, valid_dataset = train_valid_split(dataset)\n",
    "\n",
    "train_dataset = MyOwnCifar(train_dataset, trans_actions)\n",
    "valid_dataset = MyOwnCifar(valid_dataset, transforms.ToTensor())"
   ]
  },
  {
   "cell_type": "code",
   "execution_count": 11,
   "metadata": {
    "id": "Bqn5jFgfpNH8"
   },
   "outputs": [],
   "source": [
    "train_loader = torch.utils.data.DataLoader(train_dataset,\n",
    "                          batch_size=2048,\n",
    "                          shuffle=True,\n",
    "                          num_workers=2)\n",
    "valid_loader = torch.utils.data.DataLoader(valid_dataset,\n",
    "                          batch_size=256,\n",
    "                          shuffle=False,\n",
    "                          num_workers=1)"
   ]
  },
  {
   "cell_type": "code",
   "execution_count": 12,
   "metadata": {
    "colab": {
     "base_uri": "https://localhost:8080/",
     "height": 36
    },
    "id": "4yJGltj2pWpb",
    "outputId": "165be2f2-c853-47df-c0b6-f85a8e1e4d14"
   },
   "outputs": [
    {
     "data": {
      "application/vnd.google.colaboratory.intrinsic+json": {
       "type": "string"
      },
      "text/plain": [
       "'cuda'"
      ]
     },
     "execution_count": 12,
     "metadata": {},
     "output_type": "execute_result"
    }
   ],
   "source": [
    "device = 'cuda' if torch.cuda.is_available() else 'cpu'\n",
    "device"
   ]
  },
  {
   "cell_type": "code",
   "execution_count": 13,
   "metadata": {
    "id": "u-lDPBZSpmpq"
   },
   "outputs": [],
   "source": [
    "class Net(nn.Module):\n",
    "\n",
    "    def __init__(self):\n",
    "        super(Net, self).__init__()\n",
    "        self.dp = nn.Dropout(0.2)\n",
    "\n",
    "        self.bn_one = torch.nn.BatchNorm2d(3)\n",
    "        self.conv_one = torch.nn.Conv2d(3, 64, 3)\n",
    "        self.bn_two = torch.nn.BatchNorm2d(64)\n",
    "        self.conv_two = torch.nn.Conv2d(64, 128, 3)\n",
    "        self.bn_three = torch.nn.BatchNorm2d(128)\n",
    "        self.conv_three = torch.nn.Conv2d(128, 256, 3)\n",
    "        self.bn_four = torch.nn.BatchNorm2d(256)\n",
    "        self.fc1 = torch.nn.Linear(1024, 512)\n",
    "        self.fc2 = torch.nn.Linear(512, 256)\n",
    "        self.out = torch.nn.Linear(256, 100)\n",
    "\n",
    "    def forward(self, x):\n",
    "        x = self.bn_one(x)\n",
    "        x = self.conv_one(x)\n",
    "        x = F.relu(x)\n",
    "        x = F.max_pool2d(x, 2)\n",
    "\n",
    "        x = self.bn_two(x)\n",
    "        x = self.conv_two(x)\n",
    "        x = F.relu(x)\n",
    "        x = F.max_pool2d(x, 2)\n",
    "\n",
    "        x = self.bn_three(x)\n",
    "        x = self.conv_three(x)\n",
    "        x = F.relu(x, 0.1)\n",
    "        x = F.max_pool2d(x, 2)\n",
    "\n",
    "        x = self.bn_four(x)\n",
    "        x = x.view(x.size(0), -1)\n",
    "        x = self.dp(x)\n",
    "        x = self.fc1(x)\n",
    "        x = F.relu(x)\n",
    "        x = self.dp(x)\n",
    "        x = self.fc2(x)\n",
    "        x = F.relu(x)\n",
    "        return self.out(x)\n",
    "\n",
    "net = Net().to(device)"
   ]
  },
  {
   "cell_type": "code",
   "execution_count": 14,
   "metadata": {
    "colab": {
     "base_uri": "https://localhost:8080/"
    },
    "id": "dQMNl5zQrXf6",
    "outputId": "c5c28cf7-07c5-4f4a-898e-9125726997bf"
   },
   "outputs": [
    {
     "name": "stdout",
     "output_type": "stream",
     "text": [
      "----------------------------------------------------------------\n",
      "        Layer (type)               Output Shape         Param #\n",
      "================================================================\n",
      "       BatchNorm2d-1            [-1, 3, 32, 32]               6\n",
      "            Conv2d-2           [-1, 64, 30, 30]           1,792\n",
      "       BatchNorm2d-3           [-1, 64, 15, 15]             128\n",
      "            Conv2d-4          [-1, 128, 13, 13]          73,856\n",
      "       BatchNorm2d-5            [-1, 128, 6, 6]             256\n",
      "            Conv2d-6            [-1, 256, 4, 4]         295,168\n",
      "       BatchNorm2d-7            [-1, 256, 2, 2]             512\n",
      "           Dropout-8                 [-1, 1024]               0\n",
      "            Linear-9                  [-1, 512]         524,800\n",
      "          Dropout-10                  [-1, 512]               0\n",
      "           Linear-11                  [-1, 256]         131,328\n",
      "           Linear-12                  [-1, 100]          25,700\n",
      "================================================================\n",
      "Total params: 1,053,546\n",
      "Trainable params: 1,053,546\n",
      "Non-trainable params: 0\n",
      "----------------------------------------------------------------\n",
      "Input size (MB): 0.01\n",
      "Forward/backward pass size (MB): 0.83\n",
      "Params size (MB): 4.02\n",
      "Estimated Total Size (MB): 4.86\n",
      "----------------------------------------------------------------\n"
     ]
    }
   ],
   "source": [
    "summary(net, (3, 32, 32))"
   ]
  },
  {
   "cell_type": "code",
   "execution_count": 15,
   "metadata": {
    "id": "RDIUPHKdt30t"
   },
   "outputs": [],
   "source": [
    "optimizer = torch.optim.Adam(net.parameters(), lr=0.01)\n",
    "criterion = nn.CrossEntropyLoss()"
   ]
  },
  {
   "cell_type": "code",
   "execution_count": 16,
   "metadata": {
    "colab": {
     "base_uri": "https://localhost:8080/"
    },
    "id": "Wmw5xKB6yRv-",
    "outputId": "2b36aa3e-8beb-497a-fd7e-42190688fcec"
   },
   "outputs": [
    {
     "name": "stdout",
     "output_type": "stream",
     "text": [
      "Epoch [1/10]. Loss_train: 4.391. Acc: 0.036. Loss_test: 4.164. Acc_test: 0.060\n",
      "Epoch [2/10]. Loss_train: 4.080. Acc: 0.067. Loss_test: 4.009. Acc_test: 0.078\n",
      "Epoch [3/10]. Loss_train: 3.923. Acc: 0.088. Loss_test: 4.062. Acc_test: 0.088\n",
      "Epoch [4/10]. Loss_train: 3.824. Acc: 0.104. Loss_test: 4.353. Acc_test: 0.064\n",
      "Epoch [5/10]. Loss_train: 3.744. Acc: 0.115. Loss_test: 4.085. Acc_test: 0.093\n",
      "Epoch [6/10]. Loss_train: 3.650. Acc: 0.134. Loss_test: 4.337. Acc_test: 0.077\n",
      "Epoch [7/10]. Loss_train: 3.581. Acc: 0.143. Loss_test: 4.167. Acc_test: 0.100\n",
      "Epoch [8/10]. Loss_train: 3.517. Acc: 0.158. Loss_test: 4.043. Acc_test: 0.100\n",
      "Epoch [9/10]. Loss_train: 3.438. Acc: 0.171. Loss_test: 3.757. Acc_test: 0.137\n",
      "Epoch [10/10]. Loss_train: 3.353. Acc: 0.184. Loss_test: 3.795. Acc_test: 0.133\n",
      "Training is finished!\n",
      "CPU times: user 22 s, sys: 2.91 s, total: 24.9 s\n",
      "Wall time: 2min 16s\n"
     ]
    }
   ],
   "source": [
    "%%time\n",
    "train_acc, test_acc = train_my_net(net, criterion, optimizer, num_epochs=10)"
   ]
  },
  {
   "cell_type": "code",
   "execution_count": 17,
   "metadata": {
    "colab": {
     "base_uri": "https://localhost:8080/",
     "height": 465
    },
    "id": "YkKjM4gnDRGK",
    "outputId": "56149ae6-fef6-4c04-8b2f-aff600a1daab"
   },
   "outputs": [
    {
     "data": {
      "image/png": "[encoded data removed]",
      "text/plain": [
       "<Figure size 1500x500 with 1 Axes>"
      ]
     },
     "metadata": {},
     "output_type": "display_data"
    }
   ],
   "source": [
    "def plot_accuracy(train_acc, test_acc):\n",
    "  plt.figure(figsize=(15,5))\n",
    "  plt.plot(train_acc, 'r-', label='train_acc')\n",
    "  plt.plot(test_acc, 'g-', label='test_acc')\n",
    "  plt.grid()\n",
    "  plt.legend()\n",
    "  plt.xlabel('epoch')\n",
    "  plt.ylabel('accuracy')\n",
    "  plt.show()\n",
    "plot_accuracy(train_acc, test_acc)"
   ]
  },
  {
   "cell_type": "code",
   "execution_count": 22,
   "metadata": {
    "id": "UBSsbEp6EYY-"
   },
   "outputs": [],
   "source": [
    "class Net2(nn.Module):\n",
    "\n",
    "    def __init__(self):\n",
    "        super(Net2, self).__init__()\n",
    "        self.dp_three = nn.Dropout(0.2)\n",
    "        self.dp_four = nn.Dropout(0.2)\n",
    "\n",
    "        self.bn_one = torch.nn.BatchNorm2d(3)\n",
    "        self.conv_one = torch.nn.Conv2d(3, 30, 3)\n",
    "        self.bn_two = torch.nn.BatchNorm2d(30)\n",
    "        self.conv_two = torch.nn.Conv2d(30, 60, 3)\n",
    "        self.bn_three = torch.nn.BatchNorm2d(60)\n",
    "        self.conv_three = torch.nn.Conv2d(60, 120, 3)\n",
    "        self.bn_four = torch.nn.BatchNorm2d(120)\n",
    "        self.fc1 = torch.nn.Linear(480, 200)\n",
    "        self.out = torch.nn.Linear(200, 100)\n",
    "\n",
    "\n",
    "\n",
    "    def forward(self, x):\n",
    "        x = self.bn_one(x)\n",
    "        x = self.conv_one(x)\n",
    "        x = F.relu(x)\n",
    "        x = F.max_pool2d(x, 2)\n",
    "\n",
    "        x = self.bn_two(x)\n",
    "        x = self.conv_two(x)\n",
    "        x = F.relu(x)\n",
    "        x = F.max_pool2d(x, 2)\n",
    "\n",
    "        x = self.bn_three(x)\n",
    "        x = self.conv_three(x)\n",
    "        x = F.relu(x)\n",
    "        x = F.max_pool2d(x, 2)\n",
    "\n",
    "        x = self.bn_four(x)\n",
    "        x = x.view(x.size(0), -1)\n",
    "        x = self.dp_three(x)\n",
    "        x = self.fc1(x)\n",
    "        x = F.relu(x)\n",
    "        x = self.dp_four(x)\n",
    "        x = F.relu(x)\n",
    "        return self.out(x)"
   ]
  },
  {
   "cell_type": "code",
   "execution_count": 23,
   "metadata": {
    "id": "XOVnWEsbFsir"
   },
   "outputs": [],
   "source": [
    "net2 = Net2().to(device)"
   ]
  },
  {
   "cell_type": "code",
   "execution_count": 24,
   "metadata": {
    "colab": {
     "base_uri": "https://localhost:8080/"
    },
    "id": "eupm6ERKEIOv",
    "outputId": "5f63d394-3f63-4c16-f024-06744a9f90aa"
   },
   "outputs": [
    {
     "name": "stdout",
     "output_type": "stream",
     "text": [
      "Epoch [1/10]. Loss_train: 4.641. Acc: 0.010. Loss_test: 4.609. Acc_test: 0.013\n",
      "Epoch [2/10]. Loss_train: 4.643. Acc: 0.010. Loss_test: 4.625. Acc_test: 0.013\n",
      "Epoch [3/10]. Loss_train: 4.643. Acc: 0.010. Loss_test: 4.635. Acc_test: 0.014\n",
      "Epoch [4/10]. Loss_train: 4.641. Acc: 0.010. Loss_test: 4.636. Acc_test: 0.014\n",
      "Epoch [5/10]. Loss_train: 4.642. Acc: 0.010. Loss_test: 4.636. Acc_test: 0.014\n",
      "Epoch [6/10]. Loss_train: 4.641. Acc: 0.010. Loss_test: 4.636. Acc_test: 0.014\n",
      "Epoch [7/10]. Loss_train: 4.642. Acc: 0.010. Loss_test: 4.636. Acc_test: 0.014\n",
      "Epoch [8/10]. Loss_train: 4.642. Acc: 0.010. Loss_test: 4.637. Acc_test: 0.014\n",
      "Epoch [9/10]. Loss_train: 4.642. Acc: 0.010. Loss_test: 4.637. Acc_test: 0.014\n",
      "Epoch [10/10]. Loss_train: 4.642. Acc: 0.010. Loss_test: 4.636. Acc_test: 0.014\n",
      "Training is finished!\n",
      "CPU times: user 14.1 s, sys: 2.8 s, total: 16.9 s\n",
      "Wall time: 2min 9s\n"
     ]
    }
   ],
   "source": [
    "%%time\n",
    "train_acc, test_acc = train_my_net(net2, criterion, optimizer, num_epochs=10)"
   ]
  },
  {
   "cell_type": "code",
   "execution_count": 25,
   "metadata": {
    "colab": {
     "base_uri": "https://localhost:8080/",
     "height": 465
    },
    "id": "ALHjJiyaF6R0",
    "outputId": "a0eec6b8-40a1-47e2-e609-02951df7807e"
   },
   "outputs": [
    {
     "data": {
      "image/png": "[encoded data removed]",
      "text/plain": [
       "<Figure size 1500x500 with 1 Axes>"
      ]
     },
     "metadata": {},
     "output_type": "display_data"
    }
   ],
   "source": [
    "plot_accuracy(train_acc, test_acc)"
   ]
  },
  {
   "cell_type": "markdown",
   "metadata": {
    "id": "2YvHy77qRMWZ"
   },
   "source": [
    "## ResNet"
   ]
  },
  {
   "cell_type": "code",
   "execution_count": 31,
   "metadata": {
    "id": "jwJ-VlpvVAt3"
   },
   "outputs": [],
   "source": [
    "model = torchvision.models.resnet50(pretrained=True)\n",
    "model = model.to(device)"
   ]
  },
  {
   "cell_type": "code",
   "execution_count": 32,
   "metadata": {
    "id": "IiO_vLMyVR_K"
   },
   "outputs": [],
   "source": [
    "def set_parameter_requires_grad(model, feature_extracting):\n",
    "    if feature_extracting:\n",
    "        for param in model.parameters():\n",
    "            param.requires_grad = False"
   ]
  },
  {
   "cell_type": "code",
   "execution_count": 33,
   "metadata": {
    "id": "9dU9OMNyVa2s"
   },
   "outputs": [],
   "source": [
    "set_parameter_requires_grad(model, True)"
   ]
  },
  {
   "cell_type": "code",
   "execution_count": 34,
   "metadata": {
    "id": "kdAOBOBlPtuA"
   },
   "outputs": [],
   "source": [
    "num_ftrs = model.fc.in_features\n",
    "model.fc = torch.nn.Linear(num_ftrs, 1024)\n",
    "model.fc = nn.Sequential(\n",
    "    torch.nn.Dropout(0.5),\n",
    "    torch.nn.Linear(num_ftrs, 1024),\n",
    "    torch.nn.Dropout(0.2),\n",
    "    torch.nn.Linear(1024, 512),\n",
    "    torch.nn.Dropout(0.2),\n",
    "    torch.nn.Linear(512, 256),\n",
    "    torch.nn.Dropout(0.2),\n",
    "    torch.nn.Linear(256, 128),\n",
    "    torch.nn.Dropout(0.2),\n",
    "    torch.nn.Linear(128, 100)\n",
    ")\n",
    "\n",
    "model.fc = model.fc.to(device)"
   ]
  },
  {
   "cell_type": "code",
   "execution_count": 35,
   "metadata": {
    "colab": {
     "base_uri": "https://localhost:8080/"
    },
    "id": "RfP_ewiKS9KY",
    "outputId": "f47b7c2a-b43c-4f73-fbd0-bc54f70711ec"
   },
   "outputs": [
    {
     "name": "stdout",
     "output_type": "stream",
     "text": [
      "----------------------------------------------------------------\n",
      "        Layer (type)               Output Shape         Param #\n",
      "================================================================\n",
      "            Conv2d-1           [-1, 64, 16, 16]           9,408\n",
      "       BatchNorm2d-2           [-1, 64, 16, 16]             128\n",
      "              ReLU-3           [-1, 64, 16, 16]               0\n",
      "         MaxPool2d-4             [-1, 64, 8, 8]               0\n",
      "            Conv2d-5             [-1, 64, 8, 8]           4,096\n",
      "       BatchNorm2d-6             [-1, 64, 8, 8]             128\n",
      "              ReLU-7             [-1, 64, 8, 8]               0\n",
      "            Conv2d-8             [-1, 64, 8, 8]          36,864\n",
      "       BatchNorm2d-9             [-1, 64, 8, 8]             128\n",
      "             ReLU-10             [-1, 64, 8, 8]               0\n",
      "           Conv2d-11            [-1, 256, 8, 8]          16,384\n",
      "      BatchNorm2d-12            [-1, 256, 8, 8]             512\n",
      "           Conv2d-13            [-1, 256, 8, 8]          16,384\n",
      "      BatchNorm2d-14            [-1, 256, 8, 8]             512\n",
      "             ReLU-15            [-1, 256, 8, 8]               0\n",
      "       Bottleneck-16            [-1, 256, 8, 8]               0\n",
      "           Conv2d-17             [-1, 64, 8, 8]          16,384\n",
      "      BatchNorm2d-18             [-1, 64, 8, 8]             128\n",
      "             ReLU-19             [-1, 64, 8, 8]               0\n",
      "           Conv2d-20             [-1, 64, 8, 8]          36,864\n",
      "      BatchNorm2d-21             [-1, 64, 8, 8]             128\n",
      "             ReLU-22             [-1, 64, 8, 8]               0\n",
      "           Conv2d-23            [-1, 256, 8, 8]          16,384\n",
      "      BatchNorm2d-24            [-1, 256, 8, 8]             512\n",
      "             ReLU-25            [-1, 256, 8, 8]               0\n",
      "       Bottleneck-26            [-1, 256, 8, 8]               0\n",
      "           Conv2d-27             [-1, 64, 8, 8]          16,384\n",
      "      BatchNorm2d-28             [-1, 64, 8, 8]             128\n",
      "             ReLU-29             [-1, 64, 8, 8]               0\n",
      "           Conv2d-30             [-1, 64, 8, 8]          36,864\n",
      "      BatchNorm2d-31             [-1, 64, 8, 8]             128\n",
      "             ReLU-32             [-1, 64, 8, 8]               0\n",
      "           Conv2d-33            [-1, 256, 8, 8]          16,384\n",
      "      BatchNorm2d-34            [-1, 256, 8, 8]             512\n",
      "             ReLU-35            [-1, 256, 8, 8]               0\n",
      "       Bottleneck-36            [-1, 256, 8, 8]               0\n",
      "           Conv2d-37            [-1, 128, 8, 8]          32,768\n",
      "      BatchNorm2d-38            [-1, 128, 8, 8]             256\n",
      "             ReLU-39            [-1, 128, 8, 8]               0\n",
      "           Conv2d-40            [-1, 128, 4, 4]         147,456\n",
      "      BatchNorm2d-41            [-1, 128, 4, 4]             256\n",
      "             ReLU-42            [-1, 128, 4, 4]               0\n",
      "           Conv2d-43            [-1, 512, 4, 4]          65,536\n",
      "      BatchNorm2d-44            [-1, 512, 4, 4]           1,024\n",
      "           Conv2d-45            [-1, 512, 4, 4]         131,072\n",
      "      BatchNorm2d-46            [-1, 512, 4, 4]           1,024\n",
      "             ReLU-47            [-1, 512, 4, 4]               0\n",
      "       Bottleneck-48            [-1, 512, 4, 4]               0\n",
      "           Conv2d-49            [-1, 128, 4, 4]          65,536\n",
      "      BatchNorm2d-50            [-1, 128, 4, 4]             256\n",
      "             ReLU-51            [-1, 128, 4, 4]               0\n",
      "           Conv2d-52            [-1, 128, 4, 4]         147,456\n",
      "      BatchNorm2d-53            [-1, 128, 4, 4]             256\n",
      "             ReLU-54            [-1, 128, 4, 4]               0\n",
      "           Conv2d-55            [-1, 512, 4, 4]          65,536\n",
      "      BatchNorm2d-56            [-1, 512, 4, 4]           1,024\n",
      "             ReLU-57            [-1, 512, 4, 4]               0\n",
      "       Bottleneck-58            [-1, 512, 4, 4]               0\n",
      "           Conv2d-59            [-1, 128, 4, 4]          65,536\n",
      "      BatchNorm2d-60            [-1, 128, 4, 4]             256\n",
      "             ReLU-61            [-1, 128, 4, 4]               0\n",
      "           Conv2d-62            [-1, 128, 4, 4]         147,456\n",
      "      BatchNorm2d-63            [-1, 128, 4, 4]             256\n",
      "             ReLU-64            [-1, 128, 4, 4]               0\n",
      "           Conv2d-65            [-1, 512, 4, 4]          65,536\n",
      "      BatchNorm2d-66            [-1, 512, 4, 4]           1,024\n",
      "             ReLU-67            [-1, 512, 4, 4]               0\n",
      "       Bottleneck-68            [-1, 512, 4, 4]               0\n",
      "           Conv2d-69            [-1, 128, 4, 4]          65,536\n",
      "      BatchNorm2d-70            [-1, 128, 4, 4]             256\n",
      "             ReLU-71            [-1, 128, 4, 4]               0\n",
      "           Conv2d-72            [-1, 128, 4, 4]         147,456\n",
      "      BatchNorm2d-73            [-1, 128, 4, 4]             256\n",
      "             ReLU-74            [-1, 128, 4, 4]               0\n",
      "           Conv2d-75            [-1, 512, 4, 4]          65,536\n",
      "      BatchNorm2d-76            [-1, 512, 4, 4]           1,024\n",
      "             ReLU-77            [-1, 512, 4, 4]               0\n",
      "       Bottleneck-78            [-1, 512, 4, 4]               0\n",
      "           Conv2d-79            [-1, 256, 4, 4]         131,072\n",
      "      BatchNorm2d-80            [-1, 256, 4, 4]             512\n",
      "             ReLU-81            [-1, 256, 4, 4]               0\n",
      "           Conv2d-82            [-1, 256, 2, 2]         589,824\n",
      "      BatchNorm2d-83            [-1, 256, 2, 2]             512\n",
      "             ReLU-84            [-1, 256, 2, 2]               0\n",
      "           Conv2d-85           [-1, 1024, 2, 2]         262,144\n",
      "      BatchNorm2d-86           [-1, 1024, 2, 2]           2,048\n",
      "           Conv2d-87           [-1, 1024, 2, 2]         524,288\n",
      "      BatchNorm2d-88           [-1, 1024, 2, 2]           2,048\n",
      "             ReLU-89           [-1, 1024, 2, 2]               0\n",
      "       Bottleneck-90           [-1, 1024, 2, 2]               0\n",
      "           Conv2d-91            [-1, 256, 2, 2]         262,144\n",
      "      BatchNorm2d-92            [-1, 256, 2, 2]             512\n",
      "             ReLU-93            [-1, 256, 2, 2]               0\n",
      "           Conv2d-94            [-1, 256, 2, 2]         589,824\n",
      "      BatchNorm2d-95            [-1, 256, 2, 2]             512\n",
      "             ReLU-96            [-1, 256, 2, 2]               0\n",
      "           Conv2d-97           [-1, 1024, 2, 2]         262,144\n",
      "      BatchNorm2d-98           [-1, 1024, 2, 2]           2,048\n",
      "             ReLU-99           [-1, 1024, 2, 2]               0\n",
      "      Bottleneck-100           [-1, 1024, 2, 2]               0\n",
      "          Conv2d-101            [-1, 256, 2, 2]         262,144\n",
      "     BatchNorm2d-102            [-1, 256, 2, 2]             512\n",
      "            ReLU-103            [-1, 256, 2, 2]               0\n",
      "          Conv2d-104            [-1, 256, 2, 2]         589,824\n",
      "     BatchNorm2d-105            [-1, 256, 2, 2]             512\n",
      "            ReLU-106            [-1, 256, 2, 2]               0\n",
      "          Conv2d-107           [-1, 1024, 2, 2]         262,144\n",
      "     BatchNorm2d-108           [-1, 1024, 2, 2]           2,048\n",
      "            ReLU-109           [-1, 1024, 2, 2]               0\n",
      "      Bottleneck-110           [-1, 1024, 2, 2]               0\n",
      "          Conv2d-111            [-1, 256, 2, 2]         262,144\n",
      "     BatchNorm2d-112            [-1, 256, 2, 2]             512\n",
      "            ReLU-113            [-1, 256, 2, 2]               0\n",
      "          Conv2d-114            [-1, 256, 2, 2]         589,824\n",
      "     BatchNorm2d-115            [-1, 256, 2, 2]             512\n",
      "            ReLU-116            [-1, 256, 2, 2]               0\n",
      "          Conv2d-117           [-1, 1024, 2, 2]         262,144\n",
      "     BatchNorm2d-118           [-1, 1024, 2, 2]           2,048\n",
      "            ReLU-119           [-1, 1024, 2, 2]               0\n",
      "      Bottleneck-120           [-1, 1024, 2, 2]               0\n",
      "          Conv2d-121            [-1, 256, 2, 2]         262,144\n",
      "     BatchNorm2d-122            [-1, 256, 2, 2]             512\n",
      "            ReLU-123            [-1, 256, 2, 2]               0\n",
      "          Conv2d-124            [-1, 256, 2, 2]         589,824\n",
      "     BatchNorm2d-125            [-1, 256, 2, 2]             512\n",
      "            ReLU-126            [-1, 256, 2, 2]               0\n",
      "          Conv2d-127           [-1, 1024, 2, 2]         262,144\n",
      "     BatchNorm2d-128           [-1, 1024, 2, 2]           2,048\n",
      "            ReLU-129           [-1, 1024, 2, 2]               0\n",
      "      Bottleneck-130           [-1, 1024, 2, 2]               0\n",
      "          Conv2d-131            [-1, 256, 2, 2]         262,144\n",
      "     BatchNorm2d-132            [-1, 256, 2, 2]             512\n",
      "            ReLU-133            [-1, 256, 2, 2]               0\n",
      "          Conv2d-134            [-1, 256, 2, 2]         589,824\n",
      "     BatchNorm2d-135            [-1, 256, 2, 2]             512\n",
      "            ReLU-136            [-1, 256, 2, 2]               0\n",
      "          Conv2d-137           [-1, 1024, 2, 2]         262,144\n",
      "     BatchNorm2d-138           [-1, 1024, 2, 2]           2,048\n",
      "            ReLU-139           [-1, 1024, 2, 2]               0\n",
      "      Bottleneck-140           [-1, 1024, 2, 2]               0\n",
      "          Conv2d-141            [-1, 512, 2, 2]         524,288\n",
      "     BatchNorm2d-142            [-1, 512, 2, 2]           1,024\n",
      "            ReLU-143            [-1, 512, 2, 2]               0\n",
      "          Conv2d-144            [-1, 512, 1, 1]       2,359,296\n",
      "     BatchNorm2d-145            [-1, 512, 1, 1]           1,024\n",
      "            ReLU-146            [-1, 512, 1, 1]               0\n",
      "          Conv2d-147           [-1, 2048, 1, 1]       1,048,576\n",
      "     BatchNorm2d-148           [-1, 2048, 1, 1]           4,096\n",
      "          Conv2d-149           [-1, 2048, 1, 1]       2,097,152\n",
      "     BatchNorm2d-150           [-1, 2048, 1, 1]           4,096\n",
      "            ReLU-151           [-1, 2048, 1, 1]               0\n",
      "      Bottleneck-152           [-1, 2048, 1, 1]               0\n",
      "          Conv2d-153            [-1, 512, 1, 1]       1,048,576\n",
      "     BatchNorm2d-154            [-1, 512, 1, 1]           1,024\n",
      "            ReLU-155            [-1, 512, 1, 1]               0\n",
      "          Conv2d-156            [-1, 512, 1, 1]       2,359,296\n",
      "     BatchNorm2d-157            [-1, 512, 1, 1]           1,024\n",
      "            ReLU-158            [-1, 512, 1, 1]               0\n",
      "          Conv2d-159           [-1, 2048, 1, 1]       1,048,576\n",
      "     BatchNorm2d-160           [-1, 2048, 1, 1]           4,096\n",
      "            ReLU-161           [-1, 2048, 1, 1]               0\n",
      "      Bottleneck-162           [-1, 2048, 1, 1]               0\n",
      "          Conv2d-163            [-1, 512, 1, 1]       1,048,576\n",
      "     BatchNorm2d-164            [-1, 512, 1, 1]           1,024\n",
      "            ReLU-165            [-1, 512, 1, 1]               0\n",
      "          Conv2d-166            [-1, 512, 1, 1]       2,359,296\n",
      "     BatchNorm2d-167            [-1, 512, 1, 1]           1,024\n",
      "            ReLU-168            [-1, 512, 1, 1]               0\n",
      "          Conv2d-169           [-1, 2048, 1, 1]       1,048,576\n",
      "     BatchNorm2d-170           [-1, 2048, 1, 1]           4,096\n",
      "            ReLU-171           [-1, 2048, 1, 1]               0\n",
      "      Bottleneck-172           [-1, 2048, 1, 1]               0\n",
      "AdaptiveAvgPool2d-173           [-1, 2048, 1, 1]               0\n",
      "         Dropout-174                 [-1, 2048]               0\n",
      "          Linear-175                 [-1, 1024]       2,098,176\n",
      "         Dropout-176                 [-1, 1024]               0\n",
      "          Linear-177                  [-1, 512]         524,800\n",
      "         Dropout-178                  [-1, 512]               0\n",
      "          Linear-179                  [-1, 256]         131,328\n",
      "         Dropout-180                  [-1, 256]               0\n",
      "          Linear-181                  [-1, 128]          32,896\n",
      "         Dropout-182                  [-1, 128]               0\n",
      "          Linear-183                  [-1, 100]          12,900\n",
      "================================================================\n",
      "Total params: 26,308,132\n",
      "Trainable params: 2,800,100\n",
      "Non-trainable params: 23,508,032\n",
      "----------------------------------------------------------------\n",
      "Input size (MB): 0.01\n",
      "Forward/backward pass size (MB): 5.91\n",
      "Params size (MB): 100.36\n",
      "Estimated Total Size (MB): 106.28\n",
      "----------------------------------------------------------------\n"
     ]
    }
   ],
   "source": [
    "summary(model, (3, 32,32))"
   ]
  },
  {
   "cell_type": "code",
   "execution_count": 36,
   "metadata": {
    "id": "8bjMyRQnV_tO"
   },
   "outputs": [],
   "source": [
    "train_trans_actions = transforms.Compose([\n",
    "        transforms.RandomHorizontalFlip(p=0.5),\n",
    "        transforms.ToTensor(),\n",
    "        transforms.Normalize((0.4914, 0.4822, 0.4465), (0.2023, 0.1994, 0.2010))\n",
    "    ])\n",
    "\n",
    "test_trans_actions = transforms.Compose([\n",
    "        transforms.ToTensor(),\n",
    "        transforms.Normalize((0.4914, 0.4822, 0.4465), (0.2023, 0.1994, 0.2010))\n",
    "    ])"
   ]
  },
  {
   "cell_type": "code",
   "execution_count": 37,
   "metadata": {
    "id": "SER3l6iVWd3F"
   },
   "outputs": [],
   "source": [
    "train_dataset, valid_dataset = train_valid_split(dataset)\n",
    "\n",
    "train_dataset = MyOwnCifar(train_dataset, train_trans_actions)\n",
    "valid_dataset = MyOwnCifar(valid_dataset, test_trans_actions)"
   ]
  },
  {
   "cell_type": "code",
   "execution_count": 38,
   "metadata": {
    "id": "MtKsc61AWtUx"
   },
   "outputs": [],
   "source": [
    "train_loader = torch.utils.data.DataLoader(train_dataset,\n",
    "                          batch_size=256,\n",
    "                          shuffle=True,\n",
    "                          num_workers=2)\n",
    "valid_loader = torch.utils.data.DataLoader(valid_dataset,\n",
    "                          batch_size=256,\n",
    "                          shuffle=False,\n",
    "                          num_workers=1)"
   ]
  },
  {
   "cell_type": "code",
   "execution_count": 50,
   "metadata": {
    "id": "imxu01VzgTP-"
   },
   "outputs": [],
   "source": [
    "criterion = nn.CrossEntropyLoss()\n",
    "optimizer = torch.optim.SGD(model.parameters(), lr=0.001, momentum=0.9, weight_decay=5e-4)"
   ]
  },
  {
   "cell_type": "code",
   "execution_count": 51,
   "metadata": {
    "colab": {
     "base_uri": "https://localhost:8080/"
    },
    "id": "YHTjFL-5XB1K",
    "outputId": "468f9e30-8c80-4ed7-9486-df0c43068775"
   },
   "outputs": [
    {
     "name": "stdout",
     "output_type": "stream",
     "text": [
      "Epoch [1/20]. Loss_train: 3.374. Acc: 0.209. Loss_test: 3.104. Acc_test: 0.254\n",
      "Epoch [2/20]. Loss_train: 3.308. Acc: 0.223. Loss_test: 3.078. Acc_test: 0.264\n",
      "Epoch [3/20]. Loss_train: 3.285. Acc: 0.225. Loss_test: 3.053. Acc_test: 0.271\n",
      "Epoch [4/20]. Loss_train: 3.261. Acc: 0.229. Loss_test: 3.034. Acc_test: 0.272\n",
      "Epoch [5/20]. Loss_train: 3.255. Acc: 0.229. Loss_test: 3.030. Acc_test: 0.274\n",
      "Epoch [6/20]. Loss_train: 3.237. Acc: 0.234. Loss_test: 3.011. Acc_test: 0.278\n",
      "Epoch [7/20]. Loss_train: 3.241. Acc: 0.234. Loss_test: 3.002. Acc_test: 0.272\n",
      "Epoch [8/20]. Loss_train: 3.227. Acc: 0.234. Loss_test: 3.002. Acc_test: 0.274\n",
      "Epoch [9/20]. Loss_train: 3.234. Acc: 0.234. Loss_test: 3.002. Acc_test: 0.272\n",
      "Epoch [10/20]. Loss_train: 3.218. Acc: 0.241. Loss_test: 2.984. Acc_test: 0.277\n",
      "Epoch [11/20]. Loss_train: 3.210. Acc: 0.239. Loss_test: 2.998. Acc_test: 0.276\n",
      "Epoch [12/20]. Loss_train: 3.209. Acc: 0.241. Loss_test: 2.990. Acc_test: 0.277\n",
      "Epoch [13/20]. Loss_train: 3.208. Acc: 0.240. Loss_test: 2.978. Acc_test: 0.277\n",
      "Epoch [14/20]. Loss_train: 3.195. Acc: 0.243. Loss_test: 2.976. Acc_test: 0.274\n",
      "Epoch [15/20]. Loss_train: 3.198. Acc: 0.242. Loss_test: 2.978. Acc_test: 0.277\n",
      "Epoch [16/20]. Loss_train: 3.191. Acc: 0.242. Loss_test: 2.980. Acc_test: 0.277\n",
      "Epoch [17/20]. Loss_train: 3.197. Acc: 0.243. Loss_test: 2.975. Acc_test: 0.283\n",
      "Epoch [18/20]. Loss_train: 3.187. Acc: 0.243. Loss_test: 2.970. Acc_test: 0.276\n",
      "Epoch [19/20]. Loss_train: 3.189. Acc: 0.243. Loss_test: 2.975. Acc_test: 0.274\n",
      "Epoch [20/20]. Loss_train: 3.183. Acc: 0.245. Loss_test: 2.973. Acc_test: 0.280\n",
      "Training is finished!\n"
     ]
    }
   ],
   "source": [
    "train_acc, test_acc = train_my_net(model, criterion, optimizer, num_epochs=20)"
   ]
  },
  {
   "cell_type": "code",
   "execution_count": 52,
   "metadata": {
    "colab": {
     "base_uri": "https://localhost:8080/",
     "height": 465
    },
    "id": "-lGMoZk-YAWE",
    "outputId": "b6ff7e4d-4eb9-41ea-f829-d5e0edcb6a89"
   },
   "outputs": [
    {
     "data": {
      "image/png": "[encoded data removed]",
      "text/plain": [
       "<Figure size 1500x500 with 1 Axes>"
      ]
     },
     "metadata": {},
     "output_type": "display_data"
    }
   ],
   "source": [
    "plot_accuracy(train_acc, test_acc)"
   ]
  }
 ],
 "metadata": {
  "accelerator": "GPU",
  "colab": {
   "gpuType": "T4",
   "provenance": []
  },
  "kernelspec": {
   "display_name": "Python 3",
   "language": "python",
   "name": "python3"
  },
  "language_info": {
   "codemirror_mode": {
    "name": "ipython",
    "version": 3
   },
   "file_extension": ".py",
   "mimetype": "text/x-python",
   "name": "python",
   "nbconvert_exporter": "python",
   "pygments_lexer": "ipython3",
   "version": "3.7.6"
  }
 },
 "nbformat": 4,
 "nbformat_minor": 1
}

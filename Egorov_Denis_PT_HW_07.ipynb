{
 "cells": [
  {
   "cell_type": "code",
   "execution_count": 1,
   "metadata": {
    "colab": {
     "base_uri": "https://localhost:8080/",
     "height": 90
    },
    "id": "PxydA4SZRxxV",
    "outputId": "9dab9346-073b-491a-f676-8a51085b88d0"
   },
   "outputs": [
    {
     "data": {
      "text/html": [
       "\n",
       "     <input type=\"file\" id=\"files-95f16a94-9459-4d8f-8cc9-a3d732c955ba\" name=\"files[]\" multiple disabled\n",
       "        style=\"border:none\" />\n",
       "     <output id=\"result-95f16a94-9459-4d8f-8cc9-a3d732c955ba\">\n",
       "      Upload widget is only available when the cell has been executed in the\n",
       "      current browser session. Please rerun this cell to enable.\n",
       "      </output>\n",
       "      <script>// Copyright 2017 Google LLC\n",
       "//\n",
       "// Licensed under the Apache License, Version 2.0 (the \"License\");\n",
       "// you may not use this file except in compliance with the License.\n",
       "// You may obtain a copy of the License at\n",
       "//\n",
       "//      http://www.apache.org/licenses/LICENSE-2.0\n",
       "//\n",
       "// Unless required by applicable law or agreed to in writing, software\n",
       "// distributed under the License is distributed on an \"AS IS\" BASIS,\n",
       "// WITHOUT WARRANTIES OR CONDITIONS OF ANY KIND, either express or implied.\n",
       "// See the License for the specific language governing permissions and\n",
       "// limitations under the License.\n",
       "\n",
       "/**\n",
       " * @fileoverview Helpers for google.colab Python module.\n",
       " */\n",
       "(function(scope) {\n",
       "function span(text, styleAttributes = {}) {\n",
       "  const element = document.createElement('span');\n",
       "  element.textContent = text;\n",
       "  for (const key of Object.keys(styleAttributes)) {\n",
       "    element.style[key] = styleAttributes[key];\n",
       "  }\n",
       "  return element;\n",
       "}\n",
       "\n",
       "// Max number of bytes which will be uploaded at a time.\n",
       "const MAX_PAYLOAD_SIZE = 100 * 1024;\n",
       "\n",
       "function _uploadFiles(inputId, outputId) {\n",
       "  const steps = uploadFilesStep(inputId, outputId);\n",
       "  const outputElement = document.getElementById(outputId);\n",
       "  // Cache steps on the outputElement to make it available for the next call\n",
       "  // to uploadFilesContinue from Python.\n",
       "  outputElement.steps = steps;\n",
       "\n",
       "  return _uploadFilesContinue(outputId);\n",
       "}\n",
       "\n",
       "// This is roughly an async generator (not supported in the browser yet),\n",
       "// where there are multiple asynchronous steps and the Python side is going\n",
       "// to poll for completion of each step.\n",
       "// This uses a Promise to block the python side on completion of each step,\n",
       "// then passes the result of the previous step as the input to the next step.\n",
       "function _uploadFilesContinue(outputId) {\n",
       "  const outputElement = document.getElementById(outputId);\n",
       "  const steps = outputElement.steps;\n",
       "\n",
       "  const next = steps.next(outputElement.lastPromiseValue);\n",
       "  return Promise.resolve(next.value.promise).then((value) => {\n",
       "    // Cache the last promise value to make it available to the next\n",
       "    // step of the generator.\n",
       "    outputElement.lastPromiseValue = value;\n",
       "    return next.value.response;\n",
       "  });\n",
       "}\n",
       "\n",
       "/**\n",
       " * Generator function which is called between each async step of the upload\n",
       " * process.\n",
       " * @param {string} inputId Element ID of the input file picker element.\n",
       " * @param {string} outputId Element ID of the output display.\n",
       " * @return {!Iterable<!Object>} Iterable of next steps.\n",
       " */\n",
       "function* uploadFilesStep(inputId, outputId) {\n",
       "  const inputElement = document.getElementById(inputId);\n",
       "  inputElement.disabled = false;\n",
       "\n",
       "  const outputElement = document.getElementById(outputId);\n",
       "  outputElement.innerHTML = '';\n",
       "\n",
       "  const pickedPromise = new Promise((resolve) => {\n",
       "    inputElement.addEventListener('change', (e) => {\n",
       "      resolve(e.target.files);\n",
       "    });\n",
       "  });\n",
       "\n",
       "  const cancel = document.createElement('button');\n",
       "  inputElement.parentElement.appendChild(cancel);\n",
       "  cancel.textContent = 'Cancel upload';\n",
       "  const cancelPromise = new Promise((resolve) => {\n",
       "    cancel.onclick = () => {\n",
       "      resolve(null);\n",
       "    };\n",
       "  });\n",
       "\n",
       "  // Wait for the user to pick the files.\n",
       "  const files = yield {\n",
       "    promise: Promise.race([pickedPromise, cancelPromise]),\n",
       "    response: {\n",
       "      action: 'starting',\n",
       "    }\n",
       "  };\n",
       "\n",
       "  cancel.remove();\n",
       "\n",
       "  // Disable the input element since further picks are not allowed.\n",
       "  inputElement.disabled = true;\n",
       "\n",
       "  if (!files) {\n",
       "    return {\n",
       "      response: {\n",
       "        action: 'complete',\n",
       "      }\n",
       "    };\n",
       "  }\n",
       "\n",
       "  for (const file of files) {\n",
       "    const li = document.createElement('li');\n",
       "    li.append(span(file.name, {fontWeight: 'bold'}));\n",
       "    li.append(span(\n",
       "        `(${file.type || 'n/a'}) - ${file.size} bytes, ` +\n",
       "        `last modified: ${\n",
       "            file.lastModifiedDate ? file.lastModifiedDate.toLocaleDateString() :\n",
       "                                    'n/a'} - `));\n",
       "    const percent = span('0% done');\n",
       "    li.appendChild(percent);\n",
       "\n",
       "    outputElement.appendChild(li);\n",
       "\n",
       "    const fileDataPromise = new Promise((resolve) => {\n",
       "      const reader = new FileReader();\n",
       "      reader.onload = (e) => {\n",
       "        resolve(e.target.result);\n",
       "      };\n",
       "      reader.readAsArrayBuffer(file);\n",
       "    });\n",
       "    // Wait for the data to be ready.\n",
       "    let fileData = yield {\n",
       "      promise: fileDataPromise,\n",
       "      response: {\n",
       "        action: 'continue',\n",
       "      }\n",
       "    };\n",
       "\n",
       "    // Use a chunked sending to avoid message size limits. See b/62115660.\n",
       "    let position = 0;\n",
       "    do {\n",
       "      const length = Math.min(fileData.byteLength - position, MAX_PAYLOAD_SIZE);\n",
       "      const chunk = new Uint8Array(fileData, position, length);\n",
       "      position += length;\n",
       "\n",
       "      const base64 = btoa(String.fromCharCode.apply(null, chunk));\n",
       "      yield {\n",
       "        response: {\n",
       "          action: 'append',\n",
       "          file: file.name,\n",
       "          data: base64,\n",
       "        },\n",
       "      };\n",
       "\n",
       "      let percentDone = fileData.byteLength === 0 ?\n",
       "          100 :\n",
       "          Math.round((position / fileData.byteLength) * 100);\n",
       "      percent.textContent = `${percentDone}% done`;\n",
       "\n",
       "    } while (position < fileData.byteLength);\n",
       "  }\n",
       "\n",
       "  // All done.\n",
       "  yield {\n",
       "    response: {\n",
       "      action: 'complete',\n",
       "    }\n",
       "  };\n",
       "}\n",
       "\n",
       "scope.google = scope.google || {};\n",
       "scope.google.colab = scope.google.colab || {};\n",
       "scope.google.colab._files = {\n",
       "  _uploadFiles,\n",
       "  _uploadFilesContinue,\n",
       "};\n",
       "})(self);\n",
       "</script> "
      ],
      "text/plain": [
       "<IPython.core.display.HTML object>"
      ]
     },
     "metadata": {},
     "output_type": "display_data"
    },
    {
     "name": "stdout",
     "output_type": "stream",
     "text": [
      "Saving kaggle.json to kaggle.json\n"
     ]
    },
    {
     "data": {
      "text/plain": [
       "{'kaggle.json': b'{\"username\":\"denisegorov\",\"key\":\"ec36751b6b2a254da4471aad1bef3be2\"}'}"
      ]
     },
     "execution_count": 1,
     "metadata": {},
     "output_type": "execute_result"
    }
   ],
   "source": [
    "from google.colab import files\n",
    "files.upload()"
   ]
  },
  {
   "cell_type": "code",
   "execution_count": 1,
   "metadata": {
    "colab": {
     "base_uri": "https://localhost:8080/"
    },
    "id": "W6FwScJER4-X",
    "outputId": "1f61ed18-ac1a-4dc4-9964-87eb16c5675f"
   },
   "outputs": [
    {
     "name": "stdout",
     "output_type": "stream",
     "text": [
      "-rw-r--r-- 1 root root 67 Jul 24 15:05 kaggle.json\n"
     ]
    }
   ],
   "source": [
    "!ls -lha kaggle.json"
   ]
  },
  {
   "cell_type": "code",
   "execution_count": 2,
   "metadata": {
    "colab": {
     "base_uri": "https://localhost:8080/"
    },
    "id": "F_sFA6Q2SFfN",
    "outputId": "69893da3-b9a2-40b2-8fab-c412bf52c2f3"
   },
   "outputs": [
    {
     "name": "stdout",
     "output_type": "stream",
     "text": [
      "Downloading twitter-sentiment-analysis-hatred-speech.zip to /content\n",
      "100% 1.89M/1.89M [00:01<00:00, 2.05MB/s]\n",
      "100% 1.89M/1.89M [00:01<00:00, 1.80MB/s]\n"
     ]
    }
   ],
   "source": [
    "!pip install -q kaggle\n",
    "!mkdir -p ~/.kaggle\n",
    "!cp kaggle.json ~/.kaggle/\n",
    "!chmod 600 ~/.kaggle/kaggle.json\n",
    "! kaggle datasets download arkhoshghalb/twitter-sentiment-analysis-hatred-speech"
   ]
  },
  {
   "cell_type": "code",
   "execution_count": 3,
   "metadata": {
    "colab": {
     "base_uri": "https://localhost:8080/"
    },
    "id": "fi8Gs1pXSgyN",
    "outputId": "04cbd8dc-e6b7-4433-c518-4b32d5f9419e"
   },
   "outputs": [
    {
     "name": "stdout",
     "output_type": "stream",
     "text": [
      "mkdir: cannot create directory ‘dataset’: File exists\n",
      "Archive:  twitter-sentiment-analysis-hatred-speech.zip\n",
      "replace dataset/test.csv? [y]es, [n]o, [A]ll, [N]one, [r]ename: "
     ]
    }
   ],
   "source": [
    "! mkdir dataset\n",
    "! unzip twitter-sentiment-analysis-hatred-speech.zip -d dataset\n",
    "! rm -R twitter-sentiment-analysis-hatred-speech.zip"
   ]
  },
  {
   "cell_type": "code",
   "execution_count": 4,
   "metadata": {
    "id": "LGOVIgRVhxka"
   },
   "outputs": [],
   "source": [
    "import os\n",
    "import torch\n",
    "from torch import nn\n",
    "import pandas as pd\n",
    "import numpy as np\n",
    "from string import punctuation\n",
    "import nltk\n",
    "from nltk.corpus import stopwords\n",
    "from nltk.probability import FreqDist\n",
    "from nltk.tokenize import word_tokenize\n",
    "import re\n",
    "from torch.utils.data import DataLoader, Dataset"
   ]
  },
  {
   "cell_type": "code",
   "execution_count": 5,
   "metadata": {
    "colab": {
     "base_uri": "https://localhost:8080/"
    },
    "id": "WqLLwqlfMWb_",
    "outputId": "bde28942-d5fe-40a5-ad5a-b0041ff5557c"
   },
   "outputs": [
    {
     "name": "stderr",
     "output_type": "stream",
     "text": [
      "[nltk_data] Downloading package punkt to /root/nltk_data...\n",
      "[nltk_data]   Package punkt is already up-to-date!\n"
     ]
    },
    {
     "data": {
      "text/plain": [
       "True"
      ]
     },
     "execution_count": 5,
     "metadata": {},
     "output_type": "execute_result"
    }
   ],
   "source": [
    "nltk.download(\"punkt\")"
   ]
  },
  {
   "cell_type": "code",
   "execution_count": 6,
   "metadata": {
    "id": "Am_yv_7jm14n"
   },
   "outputs": [],
   "source": [
    "from sklearn.model_selection import train_test_split"
   ]
  },
  {
   "cell_type": "code",
   "execution_count": 7,
   "metadata": {
    "id": "8gEGRUMS55gR"
   },
   "outputs": [],
   "source": [
    "import spacy"
   ]
  },
  {
   "cell_type": "code",
   "execution_count": 8,
   "metadata": {
    "id": "SLNd-6BUS0yh"
   },
   "outputs": [],
   "source": [
    "from matplotlib import pyplot as plt"
   ]
  },
  {
   "cell_type": "code",
   "execution_count": 9,
   "metadata": {
    "id": "KdUIZ9tas_i1"
   },
   "outputs": [],
   "source": [
    "import pandas as pd"
   ]
  },
  {
   "cell_type": "code",
   "execution_count": 10,
   "metadata": {
    "colab": {
     "base_uri": "https://localhost:8080/",
     "height": 35
    },
    "id": "ykN-BsT2QkY4",
    "outputId": "c01c8f5f-fca5-4926-c36a-bd88bb90dc7f"
   },
   "outputs": [
    {
     "data": {
      "application/vnd.google.colaboratory.intrinsic+json": {
       "type": "string"
      },
      "text/plain": [
       "'cuda'"
      ]
     },
     "execution_count": 10,
     "metadata": {},
     "output_type": "execute_result"
    }
   ],
   "source": [
    "device = 'cuda' if torch.cuda.is_available() else 'cpu'\n",
    "device"
   ]
  },
  {
   "cell_type": "code",
   "execution_count": 11,
   "metadata": {
    "id": "sezcSwb6L8so"
   },
   "outputs": [],
   "source": [
    "max_words = 500\n",
    "max_len = 10"
   ]
  },
  {
   "cell_type": "code",
   "execution_count": 12,
   "metadata": {
    "id": "d5ffI_SGhyFD"
   },
   "outputs": [],
   "source": [
    "def seed_everything(seed):\n",
    "    os.environ[\"PYTHONHASHSEED\"] = str(seed)\n",
    "    np.random.seed(seed)\n",
    "    torch.manual_seed(seed)\n",
    "    torch.cuda.manual_seed(seed)\n",
    "    torch.backends.cudnn.deterministic = True\n",
    "    torch.backends.cudnn.benchmark = True\n",
    "\n",
    "seed_everything(42)"
   ]
  },
  {
   "cell_type": "code",
   "execution_count": 13,
   "metadata": {
    "id": "XrnDJARxidlw"
   },
   "outputs": [],
   "source": [
    "df_train = pd.read_csv(\"/content/dataset/train.csv\")\n",
    "df_test = pd.read_csv(\"/content/dataset/test.csv\")"
   ]
  },
  {
   "cell_type": "code",
   "execution_count": 14,
   "metadata": {
    "colab": {
     "base_uri": "https://localhost:8080/",
     "height": 143
    },
    "id": "1Wi7L2ifm3vY",
    "outputId": "3e383f7e-efe1-472a-a7ba-f6e7634153d8"
   },
   "outputs": [
    {
     "data": {
      "text/html": [
       "\n",
       "\n",
       "  <div id=\"df-5ad0b565-16c2-4500-979b-5d60eddc20fa\">\n",
       "    <div class=\"colab-df-container\">\n",
       "      <div>\n",
       "<style scoped>\n",
       "    .dataframe tbody tr th:only-of-type {\n",
       "        vertical-align: middle;\n",
       "    }\n",
       "\n",
       "    .dataframe tbody tr th {\n",
       "        vertical-align: top;\n",
       "    }\n",
       "\n",
       "    .dataframe thead th {\n",
       "        text-align: right;\n",
       "    }\n",
       "</style>\n",
       "<table border=\"1\" class=\"dataframe\">\n",
       "  <thead>\n",
       "    <tr style=\"text-align: right;\">\n",
       "      <th></th>\n",
       "      <th>id</th>\n",
       "      <th>label</th>\n",
       "      <th>tweet</th>\n",
       "    </tr>\n",
       "  </thead>\n",
       "  <tbody>\n",
       "    <tr>\n",
       "      <th>0</th>\n",
       "      <td>1</td>\n",
       "      <td>0</td>\n",
       "      <td>@user when a father is dysfunctional and is s...</td>\n",
       "    </tr>\n",
       "    <tr>\n",
       "      <th>1</th>\n",
       "      <td>2</td>\n",
       "      <td>0</td>\n",
       "      <td>@user @user thanks for #lyft credit i can't us...</td>\n",
       "    </tr>\n",
       "    <tr>\n",
       "      <th>2</th>\n",
       "      <td>3</td>\n",
       "      <td>0</td>\n",
       "      <td>bihday your majesty</td>\n",
       "    </tr>\n",
       "  </tbody>\n",
       "</table>\n",
       "</div>\n",
       "      <button class=\"colab-df-convert\" onclick=\"convertToInteractive('df-5ad0b565-16c2-4500-979b-5d60eddc20fa')\"\n",
       "              title=\"Convert this dataframe to an interactive table.\"\n",
       "              style=\"display:none;\">\n",
       "\n",
       "  <svg xmlns=\"http://www.w3.org/2000/svg\" height=\"24px\"viewBox=\"0 0 24 24\"\n",
       "       width=\"24px\">\n",
       "    <path d=\"M0 0h24v24H0V0z\" fill=\"none\"/>\n",
       "    <path d=\"M18.56 5.44l.94 2.06.94-2.06 2.06-.94-2.06-.94-.94-2.06-.94 2.06-2.06.94zm-11 1L8.5 8.5l.94-2.06 2.06-.94-2.06-.94L8.5 2.5l-.94 2.06-2.06.94zm10 10l.94 2.06.94-2.06 2.06-.94-2.06-.94-.94-2.06-.94 2.06-2.06.94z\"/><path d=\"M17.41 7.96l-1.37-1.37c-.4-.4-.92-.59-1.43-.59-.52 0-1.04.2-1.43.59L10.3 9.45l-7.72 7.72c-.78.78-.78 2.05 0 2.83L4 21.41c.39.39.9.59 1.41.59.51 0 1.02-.2 1.41-.59l7.78-7.78 2.81-2.81c.8-.78.8-2.07 0-2.86zM5.41 20L4 18.59l7.72-7.72 1.47 1.35L5.41 20z\"/>\n",
       "  </svg>\n",
       "      </button>\n",
       "\n",
       "\n",
       "\n",
       "    <div id=\"df-fcb465e6-b322-489b-a381-30893d9ffc11\">\n",
       "      <button class=\"colab-df-quickchart\" onclick=\"quickchart('df-fcb465e6-b322-489b-a381-30893d9ffc11')\"\n",
       "              title=\"Suggest charts.\"\n",
       "              style=\"display:none;\">\n",
       "\n",
       "<svg xmlns=\"http://www.w3.org/2000/svg\" height=\"24px\"viewBox=\"0 0 24 24\"\n",
       "     width=\"24px\">\n",
       "    <g>\n",
       "        <path d=\"M19 3H5c-1.1 0-2 .9-2 2v14c0 1.1.9 2 2 2h14c1.1 0 2-.9 2-2V5c0-1.1-.9-2-2-2zM9 17H7v-7h2v7zm4 0h-2V7h2v10zm4 0h-2v-4h2v4z\"/>\n",
       "    </g>\n",
       "</svg>\n",
       "      </button>\n",
       "    </div>\n",
       "\n",
       "<style>\n",
       "  .colab-df-quickchart {\n",
       "    background-color: #E8F0FE;\n",
       "    border: none;\n",
       "    border-radius: 50%;\n",
       "    cursor: pointer;\n",
       "    display: none;\n",
       "    fill: #1967D2;\n",
       "    height: 32px;\n",
       "    padding: 0 0 0 0;\n",
       "    width: 32px;\n",
       "  }\n",
       "\n",
       "  .colab-df-quickchart:hover {\n",
       "    background-color: #E2EBFA;\n",
       "    box-shadow: 0px 1px 2px rgba(60, 64, 67, 0.3), 0px 1px 3px 1px rgba(60, 64, 67, 0.15);\n",
       "    fill: #174EA6;\n",
       "  }\n",
       "\n",
       "  [theme=dark] .colab-df-quickchart {\n",
       "    background-color: #3B4455;\n",
       "    fill: #D2E3FC;\n",
       "  }\n",
       "\n",
       "  [theme=dark] .colab-df-quickchart:hover {\n",
       "    background-color: #434B5C;\n",
       "    box-shadow: 0px 1px 3px 1px rgba(0, 0, 0, 0.15);\n",
       "    filter: drop-shadow(0px 1px 2px rgba(0, 0, 0, 0.3));\n",
       "    fill: #FFFFFF;\n",
       "  }\n",
       "</style>\n",
       "\n",
       "    <script>\n",
       "      async function quickchart(key) {\n",
       "        const containerElement = document.querySelector('#' + key);\n",
       "        const charts = await google.colab.kernel.invokeFunction(\n",
       "            'suggestCharts', [key], {});\n",
       "      }\n",
       "    </script>\n",
       "\n",
       "      <script>\n",
       "\n",
       "function displayQuickchartButton(domScope) {\n",
       "  let quickchartButtonEl =\n",
       "    domScope.querySelector('#df-fcb465e6-b322-489b-a381-30893d9ffc11 button.colab-df-quickchart');\n",
       "  quickchartButtonEl.style.display =\n",
       "    google.colab.kernel.accessAllowed ? 'block' : 'none';\n",
       "}\n",
       "\n",
       "        displayQuickchartButton(document);\n",
       "      </script>\n",
       "      <style>\n",
       "    .colab-df-container {\n",
       "      display:flex;\n",
       "      flex-wrap:wrap;\n",
       "      gap: 12px;\n",
       "    }\n",
       "\n",
       "    .colab-df-convert {\n",
       "      background-color: #E8F0FE;\n",
       "      border: none;\n",
       "      border-radius: 50%;\n",
       "      cursor: pointer;\n",
       "      display: none;\n",
       "      fill: #1967D2;\n",
       "      height: 32px;\n",
       "      padding: 0 0 0 0;\n",
       "      width: 32px;\n",
       "    }\n",
       "\n",
       "    .colab-df-convert:hover {\n",
       "      background-color: #E2EBFA;\n",
       "      box-shadow: 0px 1px 2px rgba(60, 64, 67, 0.3), 0px 1px 3px 1px rgba(60, 64, 67, 0.15);\n",
       "      fill: #174EA6;\n",
       "    }\n",
       "\n",
       "    [theme=dark] .colab-df-convert {\n",
       "      background-color: #3B4455;\n",
       "      fill: #D2E3FC;\n",
       "    }\n",
       "\n",
       "    [theme=dark] .colab-df-convert:hover {\n",
       "      background-color: #434B5C;\n",
       "      box-shadow: 0px 1px 3px 1px rgba(0, 0, 0, 0.15);\n",
       "      filter: drop-shadow(0px 1px 2px rgba(0, 0, 0, 0.3));\n",
       "      fill: #FFFFFF;\n",
       "    }\n",
       "  </style>\n",
       "\n",
       "      <script>\n",
       "        const buttonEl =\n",
       "          document.querySelector('#df-5ad0b565-16c2-4500-979b-5d60eddc20fa button.colab-df-convert');\n",
       "        buttonEl.style.display =\n",
       "          google.colab.kernel.accessAllowed ? 'block' : 'none';\n",
       "\n",
       "        async function convertToInteractive(key) {\n",
       "          const element = document.querySelector('#df-5ad0b565-16c2-4500-979b-5d60eddc20fa');\n",
       "          const dataTable =\n",
       "            await google.colab.kernel.invokeFunction('convertToInteractive',\n",
       "                                                     [key], {});\n",
       "          if (!dataTable) return;\n",
       "\n",
       "          const docLinkHtml = 'Like what you see? Visit the ' +\n",
       "            '<a target=\"_blank\" href=https://colab.research.google.com/notebooks/data_table.ipynb>data table notebook</a>'\n",
       "            + ' to learn more about interactive tables.';\n",
       "          element.innerHTML = '';\n",
       "          dataTable['output_type'] = 'display_data';\n",
       "          await google.colab.output.renderOutput(dataTable, element);\n",
       "          const docLink = document.createElement('div');\n",
       "          docLink.innerHTML = docLinkHtml;\n",
       "          element.appendChild(docLink);\n",
       "        }\n",
       "      </script>\n",
       "    </div>\n",
       "  </div>\n"
      ],
      "text/plain": [
       "   id  label                                              tweet\n",
       "0   1      0   @user when a father is dysfunctional and is s...\n",
       "1   2      0  @user @user thanks for #lyft credit i can't us...\n",
       "2   3      0                                bihday your majesty"
      ]
     },
     "execution_count": 14,
     "metadata": {},
     "output_type": "execute_result"
    }
   ],
   "source": [
    "df_train.head(3)"
   ]
  },
  {
   "cell_type": "code",
   "execution_count": 15,
   "metadata": {
    "colab": {
     "base_uri": "https://localhost:8080/",
     "height": 143
    },
    "id": "HREWWr9Nm7bE",
    "outputId": "a81a771f-d210-4c46-e25d-4b592f12a448"
   },
   "outputs": [
    {
     "data": {
      "text/html": [
       "\n",
       "\n",
       "  <div id=\"df-5c6edcee-2834-474a-916b-aac734c876ff\">\n",
       "    <div class=\"colab-df-container\">\n",
       "      <div>\n",
       "<style scoped>\n",
       "    .dataframe tbody tr th:only-of-type {\n",
       "        vertical-align: middle;\n",
       "    }\n",
       "\n",
       "    .dataframe tbody tr th {\n",
       "        vertical-align: top;\n",
       "    }\n",
       "\n",
       "    .dataframe thead th {\n",
       "        text-align: right;\n",
       "    }\n",
       "</style>\n",
       "<table border=\"1\" class=\"dataframe\">\n",
       "  <thead>\n",
       "    <tr style=\"text-align: right;\">\n",
       "      <th></th>\n",
       "      <th>id</th>\n",
       "      <th>tweet</th>\n",
       "    </tr>\n",
       "  </thead>\n",
       "  <tbody>\n",
       "    <tr>\n",
       "      <th>0</th>\n",
       "      <td>31963</td>\n",
       "      <td>#studiolife #aislife #requires #passion #dedic...</td>\n",
       "    </tr>\n",
       "    <tr>\n",
       "      <th>1</th>\n",
       "      <td>31964</td>\n",
       "      <td>@user #white #supremacists want everyone to s...</td>\n",
       "    </tr>\n",
       "    <tr>\n",
       "      <th>2</th>\n",
       "      <td>31965</td>\n",
       "      <td>safe ways to heal your #acne!!    #altwaystohe...</td>\n",
       "    </tr>\n",
       "  </tbody>\n",
       "</table>\n",
       "</div>\n",
       "      <button class=\"colab-df-convert\" onclick=\"convertToInteractive('df-5c6edcee-2834-474a-916b-aac734c876ff')\"\n",
       "              title=\"Convert this dataframe to an interactive table.\"\n",
       "              style=\"display:none;\">\n",
       "\n",
       "  <svg xmlns=\"http://www.w3.org/2000/svg\" height=\"24px\"viewBox=\"0 0 24 24\"\n",
       "       width=\"24px\">\n",
       "    <path d=\"M0 0h24v24H0V0z\" fill=\"none\"/>\n",
       "    <path d=\"M18.56 5.44l.94 2.06.94-2.06 2.06-.94-2.06-.94-.94-2.06-.94 2.06-2.06.94zm-11 1L8.5 8.5l.94-2.06 2.06-.94-2.06-.94L8.5 2.5l-.94 2.06-2.06.94zm10 10l.94 2.06.94-2.06 2.06-.94-2.06-.94-.94-2.06-.94 2.06-2.06.94z\"/><path d=\"M17.41 7.96l-1.37-1.37c-.4-.4-.92-.59-1.43-.59-.52 0-1.04.2-1.43.59L10.3 9.45l-7.72 7.72c-.78.78-.78 2.05 0 2.83L4 21.41c.39.39.9.59 1.41.59.51 0 1.02-.2 1.41-.59l7.78-7.78 2.81-2.81c.8-.78.8-2.07 0-2.86zM5.41 20L4 18.59l7.72-7.72 1.47 1.35L5.41 20z\"/>\n",
       "  </svg>\n",
       "      </button>\n",
       "\n",
       "\n",
       "\n",
       "    <div id=\"df-c2c6e119-ce5c-4a0f-aebf-8776f8f35230\">\n",
       "      <button class=\"colab-df-quickchart\" onclick=\"quickchart('df-c2c6e119-ce5c-4a0f-aebf-8776f8f35230')\"\n",
       "              title=\"Suggest charts.\"\n",
       "              style=\"display:none;\">\n",
       "\n",
       "<svg xmlns=\"http://www.w3.org/2000/svg\" height=\"24px\"viewBox=\"0 0 24 24\"\n",
       "     width=\"24px\">\n",
       "    <g>\n",
       "        <path d=\"M19 3H5c-1.1 0-2 .9-2 2v14c0 1.1.9 2 2 2h14c1.1 0 2-.9 2-2V5c0-1.1-.9-2-2-2zM9 17H7v-7h2v7zm4 0h-2V7h2v10zm4 0h-2v-4h2v4z\"/>\n",
       "    </g>\n",
       "</svg>\n",
       "      </button>\n",
       "    </div>\n",
       "\n",
       "<style>\n",
       "  .colab-df-quickchart {\n",
       "    background-color: #E8F0FE;\n",
       "    border: none;\n",
       "    border-radius: 50%;\n",
       "    cursor: pointer;\n",
       "    display: none;\n",
       "    fill: #1967D2;\n",
       "    height: 32px;\n",
       "    padding: 0 0 0 0;\n",
       "    width: 32px;\n",
       "  }\n",
       "\n",
       "  .colab-df-quickchart:hover {\n",
       "    background-color: #E2EBFA;\n",
       "    box-shadow: 0px 1px 2px rgba(60, 64, 67, 0.3), 0px 1px 3px 1px rgba(60, 64, 67, 0.15);\n",
       "    fill: #174EA6;\n",
       "  }\n",
       "\n",
       "  [theme=dark] .colab-df-quickchart {\n",
       "    background-color: #3B4455;\n",
       "    fill: #D2E3FC;\n",
       "  }\n",
       "\n",
       "  [theme=dark] .colab-df-quickchart:hover {\n",
       "    background-color: #434B5C;\n",
       "    box-shadow: 0px 1px 3px 1px rgba(0, 0, 0, 0.15);\n",
       "    filter: drop-shadow(0px 1px 2px rgba(0, 0, 0, 0.3));\n",
       "    fill: #FFFFFF;\n",
       "  }\n",
       "</style>\n",
       "\n",
       "    <script>\n",
       "      async function quickchart(key) {\n",
       "        const containerElement = document.querySelector('#' + key);\n",
       "        const charts = await google.colab.kernel.invokeFunction(\n",
       "            'suggestCharts', [key], {});\n",
       "      }\n",
       "    </script>\n",
       "\n",
       "      <script>\n",
       "\n",
       "function displayQuickchartButton(domScope) {\n",
       "  let quickchartButtonEl =\n",
       "    domScope.querySelector('#df-c2c6e119-ce5c-4a0f-aebf-8776f8f35230 button.colab-df-quickchart');\n",
       "  quickchartButtonEl.style.display =\n",
       "    google.colab.kernel.accessAllowed ? 'block' : 'none';\n",
       "}\n",
       "\n",
       "        displayQuickchartButton(document);\n",
       "      </script>\n",
       "      <style>\n",
       "    .colab-df-container {\n",
       "      display:flex;\n",
       "      flex-wrap:wrap;\n",
       "      gap: 12px;\n",
       "    }\n",
       "\n",
       "    .colab-df-convert {\n",
       "      background-color: #E8F0FE;\n",
       "      border: none;\n",
       "      border-radius: 50%;\n",
       "      cursor: pointer;\n",
       "      display: none;\n",
       "      fill: #1967D2;\n",
       "      height: 32px;\n",
       "      padding: 0 0 0 0;\n",
       "      width: 32px;\n",
       "    }\n",
       "\n",
       "    .colab-df-convert:hover {\n",
       "      background-color: #E2EBFA;\n",
       "      box-shadow: 0px 1px 2px rgba(60, 64, 67, 0.3), 0px 1px 3px 1px rgba(60, 64, 67, 0.15);\n",
       "      fill: #174EA6;\n",
       "    }\n",
       "\n",
       "    [theme=dark] .colab-df-convert {\n",
       "      background-color: #3B4455;\n",
       "      fill: #D2E3FC;\n",
       "    }\n",
       "\n",
       "    [theme=dark] .colab-df-convert:hover {\n",
       "      background-color: #434B5C;\n",
       "      box-shadow: 0px 1px 3px 1px rgba(0, 0, 0, 0.15);\n",
       "      filter: drop-shadow(0px 1px 2px rgba(0, 0, 0, 0.3));\n",
       "      fill: #FFFFFF;\n",
       "    }\n",
       "  </style>\n",
       "\n",
       "      <script>\n",
       "        const buttonEl =\n",
       "          document.querySelector('#df-5c6edcee-2834-474a-916b-aac734c876ff button.colab-df-convert');\n",
       "        buttonEl.style.display =\n",
       "          google.colab.kernel.accessAllowed ? 'block' : 'none';\n",
       "\n",
       "        async function convertToInteractive(key) {\n",
       "          const element = document.querySelector('#df-5c6edcee-2834-474a-916b-aac734c876ff');\n",
       "          const dataTable =\n",
       "            await google.colab.kernel.invokeFunction('convertToInteractive',\n",
       "                                                     [key], {});\n",
       "          if (!dataTable) return;\n",
       "\n",
       "          const docLinkHtml = 'Like what you see? Visit the ' +\n",
       "            '<a target=\"_blank\" href=https://colab.research.google.com/notebooks/data_table.ipynb>data table notebook</a>'\n",
       "            + ' to learn more about interactive tables.';\n",
       "          element.innerHTML = '';\n",
       "          dataTable['output_type'] = 'display_data';\n",
       "          await google.colab.output.renderOutput(dataTable, element);\n",
       "          const docLink = document.createElement('div');\n",
       "          docLink.innerHTML = docLinkHtml;\n",
       "          element.appendChild(docLink);\n",
       "        }\n",
       "      </script>\n",
       "    </div>\n",
       "  </div>\n"
      ],
      "text/plain": [
       "      id                                              tweet\n",
       "0  31963  #studiolife #aislife #requires #passion #dedic...\n",
       "1  31964   @user #white #supremacists want everyone to s...\n",
       "2  31965  safe ways to heal your #acne!!    #altwaystohe..."
      ]
     },
     "execution_count": 15,
     "metadata": {},
     "output_type": "execute_result"
    }
   ],
   "source": [
    "df_test.head(3)"
   ]
  },
  {
   "cell_type": "code",
   "execution_count": 16,
   "metadata": {
    "id": "xkQRlmfjiixG"
   },
   "outputs": [],
   "source": [
    "df_train, df_val = train_test_split(df_train, test_size=0.3, stratify=df_train['label'],  shuffle=True, random_state=42)"
   ]
  },
  {
   "cell_type": "code",
   "execution_count": 17,
   "metadata": {
    "colab": {
     "base_uri": "https://localhost:8080/"
    },
    "id": "53GYCNYSnwMO",
    "outputId": "01fbe448-2d86-40eb-8bfb-d1702db80737"
   },
   "outputs": [
    {
     "data": {
      "text/plain": [
       "(22373, 3)"
      ]
     },
     "execution_count": 17,
     "metadata": {},
     "output_type": "execute_result"
    }
   ],
   "source": [
    "df_train.shape"
   ]
  },
  {
   "cell_type": "code",
   "execution_count": 18,
   "metadata": {
    "colab": {
     "base_uri": "https://localhost:8080/"
    },
    "id": "3eb0LeAGn1H1",
    "outputId": "5802e7a8-2edd-476c-cb84-fc52d0eb7421"
   },
   "outputs": [
    {
     "data": {
      "text/plain": [
       "(9589, 3)"
      ]
     },
     "execution_count": 18,
     "metadata": {},
     "output_type": "execute_result"
    }
   ],
   "source": [
    "df_val.shape"
   ]
  },
  {
   "cell_type": "code",
   "execution_count": 19,
   "metadata": {
    "colab": {
     "base_uri": "https://localhost:8080/"
    },
    "id": "vbC6wZ6yoAf1",
    "outputId": "91634ca6-a0a1-49b6-c285-acd5f5026e6d"
   },
   "outputs": [
    {
     "data": {
      "text/plain": [
       "label\n",
       "0    20804\n",
       "1     1569\n",
       "dtype: int64"
      ]
     },
     "execution_count": 19,
     "metadata": {},
     "output_type": "execute_result"
    }
   ],
   "source": [
    "df_train.value_counts('label')"
   ]
  },
  {
   "cell_type": "code",
   "execution_count": 20,
   "metadata": {
    "colab": {
     "base_uri": "https://localhost:8080/"
    },
    "id": "q1YBOXX97P9Z",
    "outputId": "a8eee2f6-24d1-45a4-c932-27c7ba160f07"
   },
   "outputs": [
    {
     "name": "stderr",
     "output_type": "stream",
     "text": [
      "[nltk_data] Downloading package stopwords to /root/nltk_data...\n",
      "[nltk_data]   Package stopwords is already up-to-date!\n"
     ]
    }
   ],
   "source": [
    "nltk.download('stopwords')\n",
    "stopwords = set(stopwords.words('english'))"
   ]
  },
  {
   "cell_type": "code",
   "execution_count": 21,
   "metadata": {
    "id": "DyvOmKeU8t_a"
   },
   "outputs": [],
   "source": [
    "stopwords.add('user')"
   ]
  },
  {
   "cell_type": "code",
   "execution_count": 22,
   "metadata": {
    "id": "ef6vrqnl7w7x"
   },
   "outputs": [],
   "source": [
    "exclude = set(punctuation)"
   ]
  },
  {
   "cell_type": "code",
   "execution_count": 23,
   "metadata": {
    "id": "xXVCzbHG-_36"
   },
   "outputs": [],
   "source": [
    "nlp = spacy.load('en_core_web_sm')"
   ]
  },
  {
   "cell_type": "code",
   "execution_count": 24,
   "metadata": {
    "id": "hFRaHX5h8a2V"
   },
   "outputs": [],
   "source": [
    "def clean_text(text):\n",
    "  txt = str(text)\n",
    "  txt = \"\".join(c for c in txt if c not in exclude)\n",
    "  txt = txt.lower()\n",
    "  txt = re.sub(\"not\\s\", \"not\", txt)\n",
    "  txt = re.sub(\"dont\\s\", \"dont\", txt)\n",
    "  txt = re.sub(\"doesnt\\s\", \"doesnt\", txt)\n",
    "  txt = re.sub(\"didnt\\s\", \"didnt\", txt)\n",
    "  txt = re.sub(\"havent\\s\", \"havent\", txt)\n",
    "  txt = re.sub(\"hasnt\\s\", \"hasnt\", txt)\n",
    "  txt = nlp(txt)\n",
    "  txt = [word.lemma_ for word in txt if word not in stopwords]\n",
    "  return \" \".join(txt)"
   ]
  },
  {
   "cell_type": "code",
   "execution_count": 25,
   "metadata": {
    "id": "Go1aUvLl8go-"
   },
   "outputs": [],
   "source": [
    "df_train['tweet'] = df_train['tweet'].apply(clean_text)\n",
    "df_val['tweet'] = df_val['tweet'].apply(clean_text)\n",
    "df_test['tweet'] = df_test['tweet'].apply(clean_text)"
   ]
  },
  {
   "cell_type": "code",
   "execution_count": 26,
   "metadata": {
    "colab": {
     "base_uri": "https://localhost:8080/",
     "height": 35
    },
    "id": "grfg50m886Wt",
    "outputId": "fd7f5897-6f65-4bd4-c297-3d7ae2bd75b9"
   },
   "outputs": [
    {
     "data": {
      "application/vnd.google.colaboratory.intrinsic+json": {
       "type": "string"
      },
      "text/plain": [
       "'its unbelievable that in the 21st century we d need something like this again neverump   xenophobia'"
      ]
     },
     "execution_count": 26,
     "metadata": {},
     "output_type": "execute_result"
    }
   ],
   "source": [
    "df_train['tweet'][34]"
   ]
  },
  {
   "cell_type": "code",
   "execution_count": 27,
   "metadata": {
    "id": "myNys0-pF4RU"
   },
   "outputs": [],
   "source": [
    "train_corpus = \" \".join(df_train[\"tweet\"])\n",
    "train_corpus = train_corpus.lower()"
   ]
  },
  {
   "cell_type": "code",
   "execution_count": 28,
   "metadata": {
    "id": "OL2IV0gQF7Yi"
   },
   "outputs": [],
   "source": [
    "def text_to_sequence(text, maxlen, vocabulary):\n",
    "    result = []\n",
    "    tokens = word_tokenize(text.lower())\n",
    "    tokens_filtered = [word for word in tokens if word.isalnum()]\n",
    "    for word in tokens_filtered:\n",
    "        if word in vocabulary:\n",
    "            result.append(vocabulary[word])\n",
    "    padding = [0] * (maxlen-len(result))\n",
    "    return result[-maxlen:] + padding"
   ]
  },
  {
   "cell_type": "code",
   "execution_count": 29,
   "metadata": {
    "id": "LXdKJN4YLOs3"
   },
   "outputs": [],
   "source": [
    "tokens = word_tokenize(train_corpus)\n",
    "tokens_filtered = [word for word in tokens if word.isalnum()]\n",
    "dist = FreqDist(tokens_filtered)\n",
    "tokens_filtered_top = [pair[0] for pair in dist.most_common(max_words-1)]\n",
    "vocabulary = {v: k for k, v in dict(enumerate(tokens_filtered_top, 1)).items()}"
   ]
  },
  {
   "cell_type": "code",
   "execution_count": 30,
   "metadata": {
    "id": "nhxsTas7MAMh"
   },
   "outputs": [],
   "source": [
    "def text_to_sequence(text, maxlen, vocabulary):\n",
    "    result = []\n",
    "    tokens = word_tokenize(text.lower())\n",
    "    tokens_filtered = [word for word in tokens if word.isalnum()]\n",
    "    for word in tokens_filtered:\n",
    "        if word in vocabulary:\n",
    "            result.append(vocabulary[word])\n",
    "\n",
    "    padding = [0] * (maxlen-len(result))\n",
    "    return result[-maxlen:] + padding"
   ]
  },
  {
   "cell_type": "code",
   "execution_count": 31,
   "metadata": {
    "id": "JhUXqoWiMwb2"
   },
   "outputs": [],
   "source": [
    "class DataWrapper(Dataset):\n",
    "    def __init__(self, data, target, transform=None):\n",
    "        self.data = torch.from_numpy(data).long()\n",
    "        self.target = torch.from_numpy(target).long()\n",
    "        self.transform = transform\n",
    "\n",
    "    def __getitem__(self, index):\n",
    "        x = self.data[index]\n",
    "        y = self.target[index]\n",
    "\n",
    "        if self.transform:\n",
    "            x = self.transform(x)\n",
    "\n",
    "        return x, y\n",
    "\n",
    "    def __len__(self):\n",
    "        return len(self.data)"
   ]
  },
  {
   "cell_type": "code",
   "execution_count": 32,
   "metadata": {
    "id": "hlWdARTfNQdN"
   },
   "outputs": [],
   "source": [
    "x_train = np.asarray([text_to_sequence(text, max_len, vocabulary) for text in df_train[\"tweet\"]], dtype=np.int32)\n",
    "x_test = np.asarray([text_to_sequence(text, max_len, vocabulary) for text in df_test[\"tweet\"]], dtype=np.int32)\n",
    "x_val = np.asarray([text_to_sequence(text, max_len, vocabulary) for text in df_val[\"tweet\"]], dtype=np.int32)"
   ]
  },
  {
   "cell_type": "code",
   "execution_count": 33,
   "metadata": {
    "colab": {
     "base_uri": "https://localhost:8080/"
    },
    "id": "ooMn-a4ROJdh",
    "outputId": "44d9c552-be73-4804-c1b6-b1dec8f5876c"
   },
   "outputs": [
    {
     "data": {
      "text/plain": [
       "array([383, 324, 443, 460, 359, 365,   0,   0,   0,   0], dtype=int32)"
      ]
     },
     "execution_count": 33,
     "metadata": {},
     "output_type": "execute_result"
    }
   ],
   "source": [
    "x_val[0]"
   ]
  },
  {
   "cell_type": "code",
   "execution_count": 34,
   "metadata": {
    "id": "6A17aabjN4Dm"
   },
   "outputs": [],
   "source": [
    "train_dataset = DataWrapper(x_train, df_train['label'].values)\n",
    "train_loader = DataLoader(train_dataset, batch_size=512, shuffle=True)\n",
    "\n",
    "val_dataset = DataWrapper(x_val, df_val['label'].values)\n",
    "val_loader = DataLoader(val_dataset, batch_size=32, shuffle=True)"
   ]
  },
  {
   "cell_type": "code",
   "execution_count": 35,
   "metadata": {
    "id": "DX6gsHglO493"
   },
   "outputs": [],
   "source": [
    "def train_net(model, epochs=20, th=0.5):\n",
    "  model = model.to(device)\n",
    "  model.train()\n",
    "\n",
    "  train_loss_history = []\n",
    "  test_loss_history = []\n",
    "  train_f1_history = []\n",
    "  test_f1_history = []\n",
    "\n",
    "  for epoch in range(epochs):\n",
    "      running_loss, test_loss = 0.0, 0.0\n",
    "      tp_train, tn_train, fp_train, fn_train = 0.0, 0.0, 0.0, 0.0\n",
    "      tp_test, tn_test, fp_test, fn_test = 0.0, 0.0, 0.0, 0.0\n",
    "      pr_train, rec_train = 0.0, 0.0\n",
    "      pr_test, rec_test = 0.0, 0.0\n",
    "      f1_score_train, f1_score_test = 0.0, 0.0\n",
    "      for i, data in enumerate(train_loader, 0):\n",
    "          inputs, labels = data[0].to(device), data[1].to(device)\n",
    "\n",
    "          # обнуляем градиент\n",
    "          optimizer.zero_grad()\n",
    "          outputs = model(inputs)\n",
    "\n",
    "          loss = criterion(outputs, labels.float().view(-1, 1))\n",
    "          loss.backward()\n",
    "          optimizer.step()\n",
    "\n",
    "          # подсчет ошибки на обучении\n",
    "          running_loss += loss.item()\n",
    "          # подсчет метрики на обучении\n",
    "          pred_labels = torch.squeeze((outputs > th).int())\n",
    "          tp_train += ((labels == pred_labels) & (labels == 1)).sum().item()\n",
    "          tn_train += ((labels == pred_labels) & (labels == 0)).sum().item()\n",
    "          fp_train += ((labels != pred_labels) & (labels == 0)).sum().item()\n",
    "          fn_train += ((labels != pred_labels) & (labels == 1)).sum().item()\n",
    "\n",
    "      # выводим статистику о процессе обучения\n",
    "      model.eval()\n",
    "      pr_train = tp_train / (tp_train + fp_train + .001)\n",
    "      rec_train = tp_train / (tp_train + fn_train + .001)\n",
    "      f1_score_train = 2 * pr_train * rec_train / (pr_train + rec_train + .001)\n",
    "      print(f'Epoch [{epoch + 1}/{epochs}]. ' \\\n",
    "              f'Step [{i + 1}/{len(train_loader)}]. ' \\\n",
    "              f'Loss: {running_loss/(i+1):.3f}. ' \\\n",
    "              f'F1: {f1_score_train:.3f}', end='. ')\n",
    "\n",
    "      train_loss_history.append(running_loss/(i+1))\n",
    "      train_f1_history.append(f1_score_train)\n",
    "      running_loss = 0.0\n",
    "      tp_train, tn_train, fp_train, fn_train = 0.0, 0.0, 0.0, 0.0\n",
    "      pr_train, rec_train = 0.0, 0.0\n",
    "      f1_score_train = 0.0\n",
    "\n",
    "          # выводим статистику на тестовых данных\n",
    "      for j, data in enumerate(val_loader):\n",
    "          test_labels = data[1].to(device)\n",
    "          test_outputs = model(data[0].to(device))\n",
    "\n",
    "          # подсчет ошибки на тесте\n",
    "          test_loss += criterion(test_outputs, test_labels.float().view(-1, 1))\n",
    "          # подсчет метрики на тесте\n",
    "          pred_test_labels = torch.squeeze((test_outputs > th).int())\n",
    "          tp_test += ((test_labels == pred_test_labels) & (test_labels == 1)).sum().item()\n",
    "          tn_test += ((test_labels == pred_test_labels) & (test_labels == 0)).sum().item()\n",
    "          fp_test += ((test_labels != pred_test_labels) & (test_labels == 0)).sum().item()\n",
    "          fn_test += ((test_labels != pred_test_labels) & (test_labels == 1)).sum().item()\n",
    "\n",
    "      pr_test = tp_test / (tp_test + fp_test + .001)\n",
    "      rec_test = tp_test / (tp_test + fn_test + .001)\n",
    "      f1_score_test = 2 * pr_test * rec_test / (pr_test + rec_test + .001)\n",
    "      test_loss_history.append(test_loss.item()/(j+1))\n",
    "      test_f1_history.append(f1_score_test)\n",
    "      print(f'Test loss: {test_loss/(j+1):.3f}. Test F1: {f1_score_test:.3f}')\n",
    "      test_loss = 0.0\n",
    "      tp_test, tn_test, fp_test, fn_test = 0.0, 0.0, 0.0, 0.0\n",
    "      pr_test, rec_test = 0.0, 0.0\n",
    "      f1_score_test = 0.0\n",
    "\n",
    "      model.train()\n",
    "\n",
    "  print('Training is finished!')\n",
    "  return train_loss_history, test_loss_history, train_f1_history, test_f1_history"
   ]
  },
  {
   "cell_type": "code",
   "execution_count": 36,
   "metadata": {
    "id": "bO2T_dqHdZfP"
   },
   "outputs": [],
   "source": [
    "class LSTMFixedLen(nn.Module) :\n",
    "    def __init__(self, vocab_size, embedding_dim=128, hidden_dim=128, use_last=True):\n",
    "        super().__init__()\n",
    "        self.use_last = use_last\n",
    "        self.embeddings = nn.Embedding(vocab_size, embedding_dim, padding_idx=0)\n",
    "        self.lstm = nn.LSTM(embedding_dim, hidden_dim, num_layers=2, batch_first=True)\n",
    "        self.linear = nn.Linear(hidden_dim, 1)\n",
    "        self.dropout = nn.Dropout(0.2)\n",
    "\n",
    "    def forward(self, x):\n",
    "        x = self.embeddings(x)\n",
    "        x = self.dropout(x)\n",
    "        lstm_out, ht = self.lstm(x)\n",
    "\n",
    "        if self.use_last:\n",
    "            last_tensor = lstm_out[:,-1,:]\n",
    "        else:\n",
    "            # use mean\n",
    "            last_tensor = torch.mean(lstm_out[:,:], dim=1)\n",
    "\n",
    "        out = self.linear(last_tensor)\n",
    "        # print(out.shape)\n",
    "        return torch.sigmoid(out)"
   ]
  },
  {
   "cell_type": "code",
   "execution_count": 37,
   "metadata": {
    "id": "Qt2KRDixQI9C"
   },
   "outputs": [],
   "source": [
    "model = LSTMFixedLen(vocab_size=500)"
   ]
  },
  {
   "cell_type": "code",
   "execution_count": 38,
   "metadata": {
    "id": "jGPdRVPoPR9z"
   },
   "outputs": [],
   "source": [
    "optimizer = torch.optim.Adam(model.parameters(), lr=0.01)\n",
    "criterion = nn.BCELoss()"
   ]
  },
  {
   "cell_type": "code",
   "execution_count": 39,
   "metadata": {
    "colab": {
     "base_uri": "https://localhost:8080/"
    },
    "id": "N4nGAcGbPrtK",
    "outputId": "c6044c78-6617-470b-a0b2-923719219fd5"
   },
   "outputs": [
    {
     "name": "stdout",
     "output_type": "stream",
     "text": [
      "Epoch [1/20]. Step [44/44]. Loss: 0.275. F1: 0.041. Test loss: 0.254. Test F1: 0.000\n",
      "Epoch [2/20]. Step [44/44]. Loss: 0.251. F1: 0.000. Test loss: 0.222. Test F1: 0.012\n",
      "Epoch [3/20]. Step [44/44]. Loss: 0.189. F1: 0.294. Test loss: 0.181. Test F1: 0.388\n",
      "Epoch [4/20]. Step [44/44]. Loss: 0.153. F1: 0.488. Test loss: 0.170. Test F1: 0.444\n",
      "Epoch [5/20]. Step [44/44]. Loss: 0.142. F1: 0.534. Test loss: 0.163. Test F1: 0.444\n",
      "Epoch [6/20]. Step [44/44]. Loss: 0.125. F1: 0.602. Test loss: 0.166. Test F1: 0.495\n",
      "Epoch [7/20]. Step [44/44]. Loss: 0.113. F1: 0.652. Test loss: 0.176. Test F1: 0.464\n",
      "Epoch [8/20]. Step [44/44]. Loss: 0.104. F1: 0.674. Test loss: 0.171. Test F1: 0.520\n",
      "Epoch [9/20]. Step [44/44]. Loss: 0.096. F1: 0.700. Test loss: 0.175. Test F1: 0.507\n",
      "Epoch [10/20]. Step [44/44]. Loss: 0.086. F1: 0.739. Test loss: 0.193. Test F1: 0.513\n",
      "Epoch [11/20]. Step [44/44]. Loss: 0.081. F1: 0.758. Test loss: 0.205. Test F1: 0.513\n",
      "Epoch [12/20]. Step [44/44]. Loss: 0.073. F1: 0.784. Test loss: 0.199. Test F1: 0.521\n",
      "Epoch [13/20]. Step [44/44]. Loss: 0.071. F1: 0.795. Test loss: 0.207. Test F1: 0.515\n",
      "Epoch [14/20]. Step [44/44]. Loss: 0.065. F1: 0.806. Test loss: 0.227. Test F1: 0.517\n",
      "Epoch [15/20]. Step [44/44]. Loss: 0.061. F1: 0.829. Test loss: 0.220. Test F1: 0.515\n",
      "Epoch [16/20]. Step [44/44]. Loss: 0.057. F1: 0.842. Test loss: 0.236. Test F1: 0.521\n",
      "Epoch [17/20]. Step [44/44]. Loss: 0.053. F1: 0.857. Test loss: 0.239. Test F1: 0.529\n",
      "Epoch [18/20]. Step [44/44]. Loss: 0.049. F1: 0.870. Test loss: 0.233. Test F1: 0.518\n",
      "Epoch [19/20]. Step [44/44]. Loss: 0.046. F1: 0.878. Test loss: 0.262. Test F1: 0.522\n",
      "Epoch [20/20]. Step [44/44]. Loss: 0.047. F1: 0.871. Test loss: 0.248. Test F1: 0.514\n",
      "Training is finished!\n"
     ]
    }
   ],
   "source": [
    "train_loss_history, test_loss_history, train_f1_history, test_f1_history = train_net(model)"
   ]
  },
  {
   "cell_type": "code",
   "execution_count": 40,
   "metadata": {
    "id": "en3ZpwWTgusx"
   },
   "outputs": [],
   "source": [
    "result_dict = {'model': [], 'train_loss': [], 'test_loss': [], 'train_f1': [], 'test_f1': []}"
   ]
  },
  {
   "cell_type": "code",
   "execution_count": 41,
   "metadata": {
    "id": "8vJVrfjUhGEe"
   },
   "outputs": [],
   "source": [
    "def refresh_results_and_plot_history(model_name):\n",
    "  result_dict['model'].append(model_name)\n",
    "  result_dict['train_loss'].append(train_loss_history[-1])\n",
    "  result_dict['test_loss'].append(test_loss_history[-1])\n",
    "  result_dict['train_f1'].append(train_f1_history[-1])\n",
    "  result_dict['test_f1'].append(test_f1_history[-1])\n",
    "  plt.figure(figsize=(11,5))\n",
    "  plt.plot(train_loss_history, 'b--', label='train_loss')\n",
    "  plt.plot(test_loss_history, 'g--', label='test_loss')\n",
    "  plt.plot(train_f1_history, 'b', label='train_f1')\n",
    "  plt.plot(test_f1_history, 'g', label='test_f1')\n",
    "  plt.grid()\n",
    "  plt.legend()\n",
    "  plt.show()"
   ]
  },
  {
   "cell_type": "code",
   "execution_count": 42,
   "metadata": {
    "colab": {
     "base_uri": "https://localhost:8080/",
     "height": 445
    },
    "id": "rRSxBmGajmCq",
    "outputId": "bb555080-c287-41b3-b163-5d06fb0a354b"
   },
   "outputs": [
    {
     "data": {
      "image/png": "[encoded data removed]",
      "text/plain": [
       "<Figure size 1100x500 with 1 Axes>"
      ]
     },
     "metadata": {},
     "output_type": "display_data"
    }
   ],
   "source": [
    "refresh_results_and_plot_history('LSTM')"
   ]
  },
  {
   "cell_type": "markdown",
   "metadata": {
    "id": "v2bsXqOsUpFg"
   },
   "source": [
    "Переобучение - лосс на тесте растет, f1 на тесте растет сильно хуже чем на трейне."
   ]
  },
  {
   "cell_type": "markdown",
   "metadata": {
    "id": "7DnCSoCPVGzP"
   },
   "source": [
    "Попробуем GRU"
   ]
  },
  {
   "cell_type": "code",
   "execution_count": 43,
   "metadata": {
    "id": "HnDrbu1FVTb-"
   },
   "outputs": [],
   "source": [
    "class GRUFixedLen(nn.Module) :\n",
    "    def __init__(self, vocab_size, embedding_dim=128, hidden_dim=128, use_last=True):\n",
    "        super().__init__()\n",
    "        self.use_last = use_last\n",
    "        self.embeddings = nn.Embedding(vocab_size, embedding_dim, padding_idx=0)\n",
    "        self.lstm = nn.GRU(embedding_dim, hidden_dim, num_layers=2, batch_first=True)\n",
    "        self.linear = nn.Linear(hidden_dim, 1)\n",
    "        self.dropout = nn.Dropout(0.2)\n",
    "\n",
    "    def forward(self, x):\n",
    "        x = self.embeddings(x)\n",
    "        x = self.dropout(x)\n",
    "        lstm_out, ht = self.lstm(x)\n",
    "\n",
    "        if self.use_last:\n",
    "            last_tensor = lstm_out[:,-1,:]\n",
    "        else:\n",
    "            # use mean\n",
    "            last_tensor = torch.mean(lstm_out[:,:], dim=1)\n",
    "\n",
    "        out = self.linear(last_tensor)\n",
    "        # print(out.shape)\n",
    "        return torch.sigmoid(out)"
   ]
  },
  {
   "cell_type": "code",
   "execution_count": 44,
   "metadata": {
    "id": "nd8uhip1e70_"
   },
   "outputs": [],
   "source": [
    "model = GRUFixedLen(vocab_size=500)\n",
    "optimizer = torch.optim.Adam(model.parameters(), lr=0.01)\n",
    "criterion = nn.BCELoss()"
   ]
  },
  {
   "cell_type": "code",
   "execution_count": 45,
   "metadata": {
    "colab": {
     "base_uri": "https://localhost:8080/"
    },
    "id": "it_HaccjfCB3",
    "outputId": "10ef36c8-bca8-49a3-dd1b-60f5347ccdbc"
   },
   "outputs": [
    {
     "name": "stdout",
     "output_type": "stream",
     "text": [
      "Epoch [1/20]. Step [44/44]. Loss: 0.229. F1: 0.210. Test loss: 0.172. Test F1: 0.342\n",
      "Epoch [2/20]. Step [44/44]. Loss: 0.157. F1: 0.472. Test loss: 0.157. Test F1: 0.431\n",
      "Epoch [3/20]. Step [44/44]. Loss: 0.130. F1: 0.575. Test loss: 0.161. Test F1: 0.473\n",
      "Epoch [4/20]. Step [44/44]. Loss: 0.116. F1: 0.635. Test loss: 0.162. Test F1: 0.497\n",
      "Epoch [5/20]. Step [44/44]. Loss: 0.099. F1: 0.708. Test loss: 0.169. Test F1: 0.549\n",
      "Epoch [6/20]. Step [44/44]. Loss: 0.084. F1: 0.748. Test loss: 0.177. Test F1: 0.532\n",
      "Epoch [7/20]. Step [44/44]. Loss: 0.076. F1: 0.787. Test loss: 0.193. Test F1: 0.504\n",
      "Epoch [8/20]. Step [44/44]. Loss: 0.073. F1: 0.788. Test loss: 0.209. Test F1: 0.515\n",
      "Epoch [9/20]. Step [44/44]. Loss: 0.064. F1: 0.826. Test loss: 0.202. Test F1: 0.537\n",
      "Epoch [10/20]. Step [44/44]. Loss: 0.060. F1: 0.831. Test loss: 0.219. Test F1: 0.529\n",
      "Epoch [11/20]. Step [44/44]. Loss: 0.057. F1: 0.840. Test loss: 0.214. Test F1: 0.520\n",
      "Epoch [12/20]. Step [44/44]. Loss: 0.057. F1: 0.849. Test loss: 0.222. Test F1: 0.534\n",
      "Epoch [13/20]. Step [44/44]. Loss: 0.054. F1: 0.851. Test loss: 0.237. Test F1: 0.529\n",
      "Epoch [14/20]. Step [44/44]. Loss: 0.054. F1: 0.857. Test loss: 0.216. Test F1: 0.530\n",
      "Epoch [15/20]. Step [44/44]. Loss: 0.052. F1: 0.857. Test loss: 0.235. Test F1: 0.529\n",
      "Epoch [16/20]. Step [44/44]. Loss: 0.054. F1: 0.847. Test loss: 0.226. Test F1: 0.542\n",
      "Epoch [17/20]. Step [44/44]. Loss: 0.047. F1: 0.880. Test loss: 0.242. Test F1: 0.541\n",
      "Epoch [18/20]. Step [44/44]. Loss: 0.050. F1: 0.862. Test loss: 0.241. Test F1: 0.537\n",
      "Epoch [19/20]. Step [44/44]. Loss: 0.054. F1: 0.851. Test loss: 0.238. Test F1: 0.508\n",
      "Epoch [20/20]. Step [44/44]. Loss: 0.052. F1: 0.861. Test loss: 0.228. Test F1: 0.556\n",
      "Training is finished!\n"
     ]
    }
   ],
   "source": [
    "train_loss_history, test_loss_history, train_f1_history, test_f1_history = train_net(model)"
   ]
  },
  {
   "cell_type": "code",
   "execution_count": 46,
   "metadata": {
    "colab": {
     "base_uri": "https://localhost:8080/",
     "height": 445
    },
    "id": "5qmSJQoufe68",
    "outputId": "3bd912cc-498a-4a57-b5d0-81f55cd9ed46"
   },
   "outputs": [
    {
     "data": {
      "image/png": "[encoded data removed]",
      "text/plain": [
       "<Figure size 1100x500 with 1 Axes>"
      ]
     },
     "metadata": {},
     "output_type": "display_data"
    }
   ],
   "source": [
    "refresh_results_and_plot_history('GRU')"
   ]
  },
  {
   "cell_type": "markdown",
   "metadata": {
    "id": "mRdGKdKclkzZ"
   },
   "source": [
    "Те же успехи примерно. Попробую с дропаутом на выходе"
   ]
  },
  {
   "cell_type": "code",
   "execution_count": 47,
   "metadata": {
    "id": "rs3Sy4Wulmdg"
   },
   "outputs": [],
   "source": [
    "class LSTMFixedLen2(nn.Module) :\n",
    "    def __init__(self, vocab_size, embedding_dim=128, hidden_dim=128, use_last=True):\n",
    "        super().__init__()\n",
    "        self.use_last = use_last\n",
    "        self.embeddings = nn.Embedding(vocab_size, embedding_dim, padding_idx=0)\n",
    "        self.lstm = nn.LSTM(embedding_dim, hidden_dim, num_layers=2, batch_first=True)\n",
    "        self.linear = nn.Linear(hidden_dim, 1)\n",
    "        self.dropout = nn.Dropout(0.4)\n",
    "\n",
    "    def forward(self, x):\n",
    "        x = self.embeddings(x)\n",
    "        x = self.dropout(x)\n",
    "        lstm_out, ht = self.lstm(x)\n",
    "\n",
    "        if self.use_last:\n",
    "            last_tensor = lstm_out[:,-1,:]\n",
    "        else:\n",
    "            # use mean\n",
    "            last_tensor = torch.mean(lstm_out[:,:], dim=1)\n",
    "\n",
    "        out = self.linear(last_tensor)\n",
    "        out = self.dropout(out)\n",
    "        # print(out.shape)\n",
    "        return torch.sigmoid(out)"
   ]
  },
  {
   "cell_type": "code",
   "execution_count": 48,
   "metadata": {
    "colab": {
     "base_uri": "https://localhost:8080/",
     "height": 809
    },
    "id": "Uc64GgKVnhrV",
    "outputId": "56a6345f-63e3-4d42-d607-7ee4a0650e42"
   },
   "outputs": [
    {
     "name": "stdout",
     "output_type": "stream",
     "text": [
      "Epoch [1/20]. Step [44/44]. Loss: 0.439. F1: 0.068. Test loss: 0.274. Test F1: 0.123\n",
      "Epoch [2/20]. Step [44/44]. Loss: 0.403. F1: 0.138. Test loss: 0.239. Test F1: 0.410\n",
      "Epoch [3/20]. Step [44/44]. Loss: 0.379. F1: 0.237. Test loss: 0.187. Test F1: 0.390\n",
      "Epoch [4/20]. Step [44/44]. Loss: 0.371. F1: 0.327. Test loss: 0.188. Test F1: 0.389\n",
      "Epoch [5/20]. Step [44/44]. Loss: 0.366. F1: 0.331. Test loss: 0.175. Test F1: 0.460\n",
      "Epoch [6/20]. Step [44/44]. Loss: 0.359. F1: 0.352. Test loss: 0.174. Test F1: 0.468\n",
      "Epoch [7/20]. Step [44/44]. Loss: 0.355. F1: 0.364. Test loss: 0.185. Test F1: 0.505\n",
      "Epoch [8/20]. Step [44/44]. Loss: 0.353. F1: 0.398. Test loss: 0.162. Test F1: 0.463\n",
      "Epoch [9/20]. Step [44/44]. Loss: 0.345. F1: 0.448. Test loss: 0.167. Test F1: 0.477\n",
      "Epoch [10/20]. Step [44/44]. Loss: 0.348. F1: 0.446. Test loss: 0.172. Test F1: 0.496\n",
      "Epoch [11/20]. Step [44/44]. Loss: 0.345. F1: 0.458. Test loss: 0.175. Test F1: 0.490\n",
      "Epoch [12/20]. Step [44/44]. Loss: 0.345. F1: 0.467. Test loss: 0.169. Test F1: 0.493\n",
      "Epoch [13/20]. Step [44/44]. Loss: 0.339. F1: 0.498. Test loss: 0.167. Test F1: 0.516\n",
      "Epoch [14/20]. Step [44/44]. Loss: 0.337. F1: 0.493. Test loss: 0.163. Test F1: 0.459\n",
      "Epoch [15/20]. Step [44/44]. Loss: 0.339. F1: 0.490. Test loss: 0.174. Test F1: 0.531\n",
      "Epoch [16/20]. Step [44/44]. Loss: 0.337. F1: 0.473. Test loss: 0.166. Test F1: 0.510\n",
      "Epoch [17/20]. Step [44/44]. Loss: 0.335. F1: 0.493. Test loss: 0.166. Test F1: 0.518\n",
      "Epoch [18/20]. Step [44/44]. Loss: 0.331. F1: 0.524. Test loss: 0.170. Test F1: 0.510\n",
      "Epoch [19/20]. Step [44/44]. Loss: 0.331. F1: 0.535. Test loss: 0.168. Test F1: 0.529\n",
      "Epoch [20/20]. Step [44/44]. Loss: 0.335. F1: 0.497. Test loss: 0.172. Test F1: 0.515\n",
      "Training is finished!\n"
     ]
    },
    {
     "data": {
      "image/png": "[encoded data removed]",
      "text/plain": [
       "<Figure size 1100x500 with 1 Axes>"
      ]
     },
     "metadata": {},
     "output_type": "display_data"
    }
   ],
   "source": [
    "model = LSTMFixedLen2(vocab_size=500)\n",
    "optimizer = torch.optim.Adam(model.parameters(), lr=0.01)\n",
    "criterion = nn.BCELoss()\n",
    "train_loss_history, test_loss_history, train_f1_history, test_f1_history = train_net(model)\n",
    "refresh_results_and_plot_history('LSTM+DO')"
   ]
  },
  {
   "cell_type": "markdown",
   "metadata": {
    "id": "7gpQKUy_n73J"
   },
   "source": [
    "Лучше, но до идеального далеко"
   ]
  },
  {
   "cell_type": "code",
   "execution_count": 49,
   "metadata": {
    "id": "qJ0TtgUQn-ik"
   },
   "outputs": [],
   "source": [
    "class LSTMFixedLen3(nn.Module) :\n",
    "    def __init__(self, vocab_size, embedding_dim=128, hidden_dim=128, use_last=True):\n",
    "        super().__init__()\n",
    "        self.use_last = use_last\n",
    "        self.embeddings = nn.Embedding(vocab_size, embedding_dim, padding_idx=0)\n",
    "        self.lstm = nn.LSTM(embedding_dim, hidden_dim, num_layers=2, batch_first=True)\n",
    "        self.linear = nn.Linear(hidden_dim, 1)\n",
    "        self.dropout = nn.Dropout(0.4)\n",
    "\n",
    "    def forward(self, x):\n",
    "        x = self.embeddings(x)\n",
    "        x = self.dropout(x)\n",
    "        lstm_out, ht = self.lstm(x)\n",
    "\n",
    "        if self.use_last:\n",
    "            last_tensor = lstm_out[:,-1,:]\n",
    "        else:\n",
    "            # use mean\n",
    "            last_tensor = torch.mean(lstm_out[:,:], dim=1)\n",
    "        out = self.dropout(last_tensor)\n",
    "        out = self.linear(out)\n",
    "\n",
    "        return torch.sigmoid(out)"
   ]
  },
  {
   "cell_type": "code",
   "execution_count": 50,
   "metadata": {
    "colab": {
     "base_uri": "https://localhost:8080/"
    },
    "id": "9GnNP7CfolFW",
    "outputId": "a38d6326-513d-41f8-8590-4e76716c5e40"
   },
   "outputs": [
    {
     "name": "stdout",
     "output_type": "stream",
     "text": [
      "Epoch [1/20]. Step [44/44]. Loss: 0.247. F1: 0.105. Test loss: 0.193. Test F1: 0.149\n",
      "Epoch [2/20]. Step [44/44]. Loss: 0.177. F1: 0.343. Test loss: 0.169. Test F1: 0.459\n",
      "Epoch [3/20]. Step [44/44]. Loss: 0.156. F1: 0.471. Test loss: 0.165. Test F1: 0.522\n",
      "Epoch [4/20]. Step [44/44]. Loss: 0.145. F1: 0.514. Test loss: 0.165. Test F1: 0.445\n",
      "Epoch [5/20]. Step [44/44]. Loss: 0.135. F1: 0.538. Test loss: 0.158. Test F1: 0.469\n",
      "Epoch [6/20]. Step [44/44]. Loss: 0.126. F1: 0.574. Test loss: 0.163. Test F1: 0.459\n",
      "Epoch [7/20]. Step [44/44]. Loss: 0.117. F1: 0.606. Test loss: 0.170. Test F1: 0.519\n",
      "Epoch [8/20]. Step [44/44]. Loss: 0.115. F1: 0.606. Test loss: 0.166. Test F1: 0.518\n",
      "Epoch [9/20]. Step [44/44]. Loss: 0.106. F1: 0.658. Test loss: 0.171. Test F1: 0.507\n",
      "Epoch [10/20]. Step [44/44]. Loss: 0.103. F1: 0.658. Test loss: 0.186. Test F1: 0.542\n",
      "Epoch [11/20]. Step [44/44]. Loss: 0.095. F1: 0.694. Test loss: 0.183. Test F1: 0.534\n",
      "Epoch [12/20]. Step [44/44]. Loss: 0.095. F1: 0.699. Test loss: 0.185. Test F1: 0.522\n",
      "Epoch [13/20]. Step [44/44]. Loss: 0.089. F1: 0.728. Test loss: 0.195. Test F1: 0.522\n",
      "Epoch [14/20]. Step [44/44]. Loss: 0.088. F1: 0.727. Test loss: 0.196. Test F1: 0.533\n",
      "Epoch [15/20]. Step [44/44]. Loss: 0.086. F1: 0.734. Test loss: 0.203. Test F1: 0.524\n",
      "Epoch [16/20]. Step [44/44]. Loss: 0.080. F1: 0.760. Test loss: 0.212. Test F1: 0.535\n",
      "Epoch [17/20]. Step [44/44]. Loss: 0.081. F1: 0.761. Test loss: 0.206. Test F1: 0.538\n",
      "Epoch [18/20]. Step [44/44]. Loss: 0.079. F1: 0.760. Test loss: 0.217. Test F1: 0.548\n",
      "Epoch [19/20]. Step [44/44]. Loss: 0.079. F1: 0.767. Test loss: 0.215. Test F1: 0.534\n",
      "Epoch [20/20]. Step [44/44]. Loss: 0.073. F1: 0.789. Test loss: 0.227. Test F1: 0.517\n",
      "Training is finished!\n"
     ]
    }
   ],
   "source": [
    "model = LSTMFixedLen3(vocab_size=500)\n",
    "optimizer = torch.optim.Adam(model.parameters(), lr=0.01)\n",
    "criterion = nn.BCELoss()\n",
    "train_loss_history, test_loss_history, train_f1_history, test_f1_history = train_net(model)"
   ]
  },
  {
   "cell_type": "code",
   "execution_count": 51,
   "metadata": {
    "colab": {
     "base_uri": "https://localhost:8080/",
     "height": 445
    },
    "id": "LP6pIwRWo1dP",
    "outputId": "5bf17b82-2c54-4a11-8a55-8bea97dd4704"
   },
   "outputs": [
    {
     "data": {
      "image/png": "[encoded data removed]",
      "text/plain": [
       "<Figure size 1100x500 with 1 Axes>"
      ]
     },
     "metadata": {},
     "output_type": "display_data"
    }
   ],
   "source": [
    "refresh_results_and_plot_history('LSTM+DO2')"
   ]
  },
  {
   "cell_type": "markdown",
   "metadata": {
    "id": "6lmSgMfApHoM"
   },
   "source": [
    "дропаут на конце работает лучше\n",
    "\n",
    "отключим USE_LAST"
   ]
  },
  {
   "cell_type": "code",
   "execution_count": 52,
   "metadata": {
    "colab": {
     "base_uri": "https://localhost:8080/",
     "height": 809
    },
    "id": "uTC9atDypUqO",
    "outputId": "650bfb7a-7526-4d37-adfa-24e2aaeec682"
   },
   "outputs": [
    {
     "name": "stdout",
     "output_type": "stream",
     "text": [
      "Epoch [1/20]. Step [44/44]. Loss: 0.422. F1: 0.082. Test loss: 0.216. Test F1: 0.393\n",
      "Epoch [2/20]. Step [44/44]. Loss: 0.382. F1: 0.262. Test loss: 0.193. Test F1: 0.323\n",
      "Epoch [3/20]. Step [44/44]. Loss: 0.369. F1: 0.300. Test loss: 0.182. Test F1: 0.386\n",
      "Epoch [4/20]. Step [44/44]. Loss: 0.364. F1: 0.340. Test loss: 0.175. Test F1: 0.453\n",
      "Epoch [5/20]. Step [44/44]. Loss: 0.361. F1: 0.360. Test loss: 0.187. Test F1: 0.452\n",
      "Epoch [6/20]. Step [44/44]. Loss: 0.364. F1: 0.374. Test loss: 0.183. Test F1: 0.490\n",
      "Epoch [7/20]. Step [44/44]. Loss: 0.353. F1: 0.408. Test loss: 0.165. Test F1: 0.480\n",
      "Epoch [8/20]. Step [44/44]. Loss: 0.353. F1: 0.393. Test loss: 0.169. Test F1: 0.512\n",
      "Epoch [9/20]. Step [44/44]. Loss: 0.354. F1: 0.438. Test loss: 0.175. Test F1: 0.494\n",
      "Epoch [10/20]. Step [44/44]. Loss: 0.350. F1: 0.426. Test loss: 0.157. Test F1: 0.501\n",
      "Epoch [11/20]. Step [44/44]. Loss: 0.345. F1: 0.461. Test loss: 0.159. Test F1: 0.508\n",
      "Epoch [12/20]. Step [44/44]. Loss: 0.343. F1: 0.471. Test loss: 0.160. Test F1: 0.496\n",
      "Epoch [13/20]. Step [44/44]. Loss: 0.342. F1: 0.468. Test loss: 0.168. Test F1: 0.540\n",
      "Epoch [14/20]. Step [44/44]. Loss: 0.338. F1: 0.490. Test loss: 0.159. Test F1: 0.464\n",
      "Epoch [15/20]. Step [44/44]. Loss: 0.346. F1: 0.457. Test loss: 0.163. Test F1: 0.518\n",
      "Epoch [16/20]. Step [44/44]. Loss: 0.342. F1: 0.505. Test loss: 0.162. Test F1: 0.511\n",
      "Epoch [17/20]. Step [44/44]. Loss: 0.335. F1: 0.509. Test loss: 0.158. Test F1: 0.529\n",
      "Epoch [18/20]. Step [44/44]. Loss: 0.337. F1: 0.487. Test loss: 0.157. Test F1: 0.515\n",
      "Epoch [19/20]. Step [44/44]. Loss: 0.337. F1: 0.496. Test loss: 0.159. Test F1: 0.505\n",
      "Epoch [20/20]. Step [44/44]. Loss: 0.332. F1: 0.509. Test loss: 0.161. Test F1: 0.527\n",
      "Training is finished!\n"
     ]
    },
    {
     "data": {
      "image/png": "[encoded data removed]",
      "text/plain": [
       "<Figure size 1100x500 with 1 Axes>"
      ]
     },
     "metadata": {},
     "output_type": "display_data"
    }
   ],
   "source": [
    "model = LSTMFixedLen2(vocab_size=500, use_last=False)\n",
    "optimizer = torch.optim.Adam(model.parameters(), lr=0.01)\n",
    "criterion = nn.BCELoss()\n",
    "train_loss_history, test_loss_history, train_f1_history, test_f1_history = train_net(model)\n",
    "refresh_results_and_plot_history('LSTM+DO, mean')"
   ]
  },
  {
   "cell_type": "code",
   "execution_count": 53,
   "metadata": {
    "id": "KR1lk18wqtU2"
   },
   "outputs": [],
   "source": [
    "class GRUFixedLen2(nn.Module) :\n",
    "    def __init__(self, vocab_size, embedding_dim=128, hidden_dim=128, use_last=True):\n",
    "        super().__init__()\n",
    "        self.use_last = use_last\n",
    "        self.embeddings = nn.Embedding(vocab_size, embedding_dim, padding_idx=0)\n",
    "        self.lstm = nn.GRU(embedding_dim, hidden_dim, num_layers=2, batch_first=True)\n",
    "        self.linear = nn.Linear(hidden_dim, 1)\n",
    "        self.dropout = nn.Dropout(0.4)\n",
    "\n",
    "    def forward(self, x):\n",
    "        x = self.embeddings(x)\n",
    "        x = self.dropout(x)\n",
    "        lstm_out, ht = self.lstm(x)\n",
    "\n",
    "        if self.use_last:\n",
    "            last_tensor = lstm_out[:,-1,:]\n",
    "        else:\n",
    "            # use mean\n",
    "            last_tensor = torch.mean(lstm_out[:,:], dim=1)\n",
    "\n",
    "        out = self.linear(last_tensor)\n",
    "        out = self.dropout(out)\n",
    "        # print(out.shape)\n",
    "        return torch.sigmoid(out)"
   ]
  },
  {
   "cell_type": "code",
   "execution_count": 54,
   "metadata": {
    "colab": {
     "base_uri": "https://localhost:8080/",
     "height": 809
    },
    "id": "Kr93wykTqAZe",
    "outputId": "4637536e-f439-4357-ed53-d47c743d46eb"
   },
   "outputs": [
    {
     "name": "stdout",
     "output_type": "stream",
     "text": [
      "Epoch [1/20]. Step [44/44]. Loss: 0.415. F1: 0.138. Test loss: 0.205. Test F1: 0.335\n",
      "Epoch [2/20]. Step [44/44]. Loss: 0.376. F1: 0.274. Test loss: 0.197. Test F1: 0.414\n",
      "Epoch [3/20]. Step [44/44]. Loss: 0.375. F1: 0.309. Test loss: 0.196. Test F1: 0.456\n",
      "Epoch [4/20]. Step [44/44]. Loss: 0.365. F1: 0.353. Test loss: 0.198. Test F1: 0.439\n",
      "Epoch [5/20]. Step [44/44]. Loss: 0.361. F1: 0.361. Test loss: 0.187. Test F1: 0.480\n",
      "Epoch [6/20]. Step [44/44]. Loss: 0.360. F1: 0.368. Test loss: 0.175. Test F1: 0.499\n",
      "Epoch [7/20]. Step [44/44]. Loss: 0.357. F1: 0.379. Test loss: 0.166. Test F1: 0.451\n",
      "Epoch [8/20]. Step [44/44]. Loss: 0.355. F1: 0.414. Test loss: 0.177. Test F1: 0.499\n",
      "Epoch [9/20]. Step [44/44]. Loss: 0.349. F1: 0.431. Test loss: 0.167. Test F1: 0.456\n",
      "Epoch [10/20]. Step [44/44]. Loss: 0.350. F1: 0.421. Test loss: 0.172. Test F1: 0.524\n",
      "Epoch [11/20]. Step [44/44]. Loss: 0.355. F1: 0.422. Test loss: 0.177. Test F1: 0.507\n",
      "Epoch [12/20]. Step [44/44]. Loss: 0.346. F1: 0.431. Test loss: 0.173. Test F1: 0.482\n",
      "Epoch [13/20]. Step [44/44]. Loss: 0.347. F1: 0.452. Test loss: 0.172. Test F1: 0.480\n",
      "Epoch [14/20]. Step [44/44]. Loss: 0.349. F1: 0.429. Test loss: 0.172. Test F1: 0.508\n",
      "Epoch [15/20]. Step [44/44]. Loss: 0.346. F1: 0.454. Test loss: 0.183. Test F1: 0.497\n",
      "Epoch [16/20]. Step [44/44]. Loss: 0.350. F1: 0.461. Test loss: 0.175. Test F1: 0.519\n",
      "Epoch [17/20]. Step [44/44]. Loss: 0.350. F1: 0.433. Test loss: 0.171. Test F1: 0.478\n",
      "Epoch [18/20]. Step [44/44]. Loss: 0.345. F1: 0.433. Test loss: 0.169. Test F1: 0.478\n",
      "Epoch [19/20]. Step [44/44]. Loss: 0.344. F1: 0.455. Test loss: 0.165. Test F1: 0.506\n",
      "Epoch [20/20]. Step [44/44]. Loss: 0.345. F1: 0.462. Test loss: 0.173. Test F1: 0.485\n",
      "Training is finished!\n"
     ]
    },
    {
     "data": {
      "image/png": "[encoded data removed]",
      "text/plain": [
       "<Figure size 1100x500 with 1 Axes>"
      ]
     },
     "metadata": {},
     "output_type": "display_data"
    }
   ],
   "source": [
    "model = GRUFixedLen2(vocab_size=500, use_last=False)\n",
    "optimizer = torch.optim.Adam(model.parameters(), lr=0.01)\n",
    "criterion = nn.BCELoss()\n",
    "train_loss_history, test_loss_history, train_f1_history, test_f1_history = train_net(model)\n",
    "refresh_results_and_plot_history('GRU+DO, mean')"
   ]
  },
  {
   "cell_type": "markdown",
   "metadata": {
    "id": "xsO_kjo4rN1x"
   },
   "source": [
    "Изменим размер словарей"
   ]
  },
  {
   "cell_type": "code",
   "execution_count": 55,
   "metadata": {
    "id": "JhGvKhOdrQIR"
   },
   "outputs": [],
   "source": [
    "max_words = 5000\n",
    "max_len = 100"
   ]
  },
  {
   "cell_type": "code",
   "execution_count": 60,
   "metadata": {
    "id": "d980oCU7rduB"
   },
   "outputs": [],
   "source": [
    "tokens = word_tokenize(train_corpus)\n",
    "tokens_filtered = [word for word in tokens if word.isalnum()]\n",
    "dist = FreqDist(tokens_filtered)\n",
    "tokens_filtered_top = [pair[0] for pair in dist.most_common(max_words-1)]\n",
    "vocabulary = {v: k for k, v in dict(enumerate(tokens_filtered_top, 1)).items()}\n",
    "x_train = np.asarray([text_to_sequence(text, max_len, vocabulary) for text in df_train[\"tweet\"]], dtype=np.int32)\n",
    "x_val = np.asarray([text_to_sequence(text, max_len, vocabulary) for text in df_val[\"tweet\"]], dtype=np.int32)\n",
    "train_dataset = DataWrapper(x_train, df_train['label'].values)\n",
    "train_loader = DataLoader(train_dataset, batch_size=512, shuffle=True)\n",
    "val_dataset = DataWrapper(x_val, df_val['label'].values)\n",
    "val_loader = DataLoader(val_dataset, batch_size=32, shuffle=True)"
   ]
  },
  {
   "cell_type": "code",
   "execution_count": 61,
   "metadata": {
    "id": "WcKFB5pTsn3y"
   },
   "outputs": [],
   "source": [
    "result_df = pd.DataFrame(result_dict)"
   ]
  },
  {
   "cell_type": "code",
   "execution_count": 76,
   "metadata": {
    "colab": {
     "base_uri": "https://localhost:8080/",
     "height": 237
    },
    "id": "z5RAzuD0tKHW",
    "outputId": "aea79327-f23a-462f-f82c-3ed8538433a3"
   },
   "outputs": [
    {
     "data": {
      "text/html": [
       "\n",
       "\n",
       "  <div id=\"df-1858c80a-adb5-4e7c-9a1c-2885bc4c4e3b\">\n",
       "    <div class=\"colab-df-container\">\n",
       "      <div>\n",
       "<style scoped>\n",
       "    .dataframe tbody tr th:only-of-type {\n",
       "        vertical-align: middle;\n",
       "    }\n",
       "\n",
       "    .dataframe tbody tr th {\n",
       "        vertical-align: top;\n",
       "    }\n",
       "\n",
       "    .dataframe thead th {\n",
       "        text-align: right;\n",
       "    }\n",
       "</style>\n",
       "<table border=\"1\" class=\"dataframe\">\n",
       "  <thead>\n",
       "    <tr style=\"text-align: right;\">\n",
       "      <th></th>\n",
       "      <th>model</th>\n",
       "      <th>train_loss</th>\n",
       "      <th>test_loss</th>\n",
       "      <th>train_f1</th>\n",
       "      <th>test_f1</th>\n",
       "    </tr>\n",
       "  </thead>\n",
       "  <tbody>\n",
       "    <tr>\n",
       "      <th>1</th>\n",
       "      <td>GRU</td>\n",
       "      <td>0.052169</td>\n",
       "      <td>0.227504</td>\n",
       "      <td>0.861029</td>\n",
       "      <td>0.555523</td>\n",
       "    </tr>\n",
       "    <tr>\n",
       "      <th>4</th>\n",
       "      <td>LSTM+DO, mean</td>\n",
       "      <td>0.332380</td>\n",
       "      <td>0.160795</td>\n",
       "      <td>0.509138</td>\n",
       "      <td>0.526516</td>\n",
       "    </tr>\n",
       "    <tr>\n",
       "      <th>3</th>\n",
       "      <td>LSTM+DO2</td>\n",
       "      <td>0.073383</td>\n",
       "      <td>0.227434</td>\n",
       "      <td>0.788922</td>\n",
       "      <td>0.517451</td>\n",
       "    </tr>\n",
       "    <tr>\n",
       "      <th>2</th>\n",
       "      <td>LSTM+DO</td>\n",
       "      <td>0.334862</td>\n",
       "      <td>0.171626</td>\n",
       "      <td>0.497141</td>\n",
       "      <td>0.514782</td>\n",
       "    </tr>\n",
       "    <tr>\n",
       "      <th>0</th>\n",
       "      <td>LSTM</td>\n",
       "      <td>0.047154</td>\n",
       "      <td>0.247909</td>\n",
       "      <td>0.871194</td>\n",
       "      <td>0.514368</td>\n",
       "    </tr>\n",
       "    <tr>\n",
       "      <th>5</th>\n",
       "      <td>GRU+DO, mean</td>\n",
       "      <td>0.344698</td>\n",
       "      <td>0.172755</td>\n",
       "      <td>0.461551</td>\n",
       "      <td>0.485184</td>\n",
       "    </tr>\n",
       "  </tbody>\n",
       "</table>\n",
       "</div>\n",
       "      <button class=\"colab-df-convert\" onclick=\"convertToInteractive('df-1858c80a-adb5-4e7c-9a1c-2885bc4c4e3b')\"\n",
       "              title=\"Convert this dataframe to an interactive table.\"\n",
       "              style=\"display:none;\">\n",
       "\n",
       "  <svg xmlns=\"http://www.w3.org/2000/svg\" height=\"24px\"viewBox=\"0 0 24 24\"\n",
       "       width=\"24px\">\n",
       "    <path d=\"M0 0h24v24H0V0z\" fill=\"none\"/>\n",
       "    <path d=\"M18.56 5.44l.94 2.06.94-2.06 2.06-.94-2.06-.94-.94-2.06-.94 2.06-2.06.94zm-11 1L8.5 8.5l.94-2.06 2.06-.94-2.06-.94L8.5 2.5l-.94 2.06-2.06.94zm10 10l.94 2.06.94-2.06 2.06-.94-2.06-.94-.94-2.06-.94 2.06-2.06.94z\"/><path d=\"M17.41 7.96l-1.37-1.37c-.4-.4-.92-.59-1.43-.59-.52 0-1.04.2-1.43.59L10.3 9.45l-7.72 7.72c-.78.78-.78 2.05 0 2.83L4 21.41c.39.39.9.59 1.41.59.51 0 1.02-.2 1.41-.59l7.78-7.78 2.81-2.81c.8-.78.8-2.07 0-2.86zM5.41 20L4 18.59l7.72-7.72 1.47 1.35L5.41 20z\"/>\n",
       "  </svg>\n",
       "      </button>\n",
       "\n",
       "\n",
       "\n",
       "    <div id=\"df-76ee4b2c-5c74-41f0-9cc0-55b96be423a1\">\n",
       "      <button class=\"colab-df-quickchart\" onclick=\"quickchart('df-76ee4b2c-5c74-41f0-9cc0-55b96be423a1')\"\n",
       "              title=\"Suggest charts.\"\n",
       "              style=\"display:none;\">\n",
       "\n",
       "<svg xmlns=\"http://www.w3.org/2000/svg\" height=\"24px\"viewBox=\"0 0 24 24\"\n",
       "     width=\"24px\">\n",
       "    <g>\n",
       "        <path d=\"M19 3H5c-1.1 0-2 .9-2 2v14c0 1.1.9 2 2 2h14c1.1 0 2-.9 2-2V5c0-1.1-.9-2-2-2zM9 17H7v-7h2v7zm4 0h-2V7h2v10zm4 0h-2v-4h2v4z\"/>\n",
       "    </g>\n",
       "</svg>\n",
       "      </button>\n",
       "    </div>\n",
       "\n",
       "<style>\n",
       "  .colab-df-quickchart {\n",
       "    background-color: #E8F0FE;\n",
       "    border: none;\n",
       "    border-radius: 50%;\n",
       "    cursor: pointer;\n",
       "    display: none;\n",
       "    fill: #1967D2;\n",
       "    height: 32px;\n",
       "    padding: 0 0 0 0;\n",
       "    width: 32px;\n",
       "  }\n",
       "\n",
       "  .colab-df-quickchart:hover {\n",
       "    background-color: #E2EBFA;\n",
       "    box-shadow: 0px 1px 2px rgba(60, 64, 67, 0.3), 0px 1px 3px 1px rgba(60, 64, 67, 0.15);\n",
       "    fill: #174EA6;\n",
       "  }\n",
       "\n",
       "  [theme=dark] .colab-df-quickchart {\n",
       "    background-color: #3B4455;\n",
       "    fill: #D2E3FC;\n",
       "  }\n",
       "\n",
       "  [theme=dark] .colab-df-quickchart:hover {\n",
       "    background-color: #434B5C;\n",
       "    box-shadow: 0px 1px 3px 1px rgba(0, 0, 0, 0.15);\n",
       "    filter: drop-shadow(0px 1px 2px rgba(0, 0, 0, 0.3));\n",
       "    fill: #FFFFFF;\n",
       "  }\n",
       "</style>\n",
       "\n",
       "    <script>\n",
       "      async function quickchart(key) {\n",
       "        const containerElement = document.querySelector('#' + key);\n",
       "        const charts = await google.colab.kernel.invokeFunction(\n",
       "            'suggestCharts', [key], {});\n",
       "      }\n",
       "    </script>\n",
       "\n",
       "      <script>\n",
       "\n",
       "function displayQuickchartButton(domScope) {\n",
       "  let quickchartButtonEl =\n",
       "    domScope.querySelector('#df-76ee4b2c-5c74-41f0-9cc0-55b96be423a1 button.colab-df-quickchart');\n",
       "  quickchartButtonEl.style.display =\n",
       "    google.colab.kernel.accessAllowed ? 'block' : 'none';\n",
       "}\n",
       "\n",
       "        displayQuickchartButton(document);\n",
       "      </script>\n",
       "      <style>\n",
       "    .colab-df-container {\n",
       "      display:flex;\n",
       "      flex-wrap:wrap;\n",
       "      gap: 12px;\n",
       "    }\n",
       "\n",
       "    .colab-df-convert {\n",
       "      background-color: #E8F0FE;\n",
       "      border: none;\n",
       "      border-radius: 50%;\n",
       "      cursor: pointer;\n",
       "      display: none;\n",
       "      fill: #1967D2;\n",
       "      height: 32px;\n",
       "      padding: 0 0 0 0;\n",
       "      width: 32px;\n",
       "    }\n",
       "\n",
       "    .colab-df-convert:hover {\n",
       "      background-color: #E2EBFA;\n",
       "      box-shadow: 0px 1px 2px rgba(60, 64, 67, 0.3), 0px 1px 3px 1px rgba(60, 64, 67, 0.15);\n",
       "      fill: #174EA6;\n",
       "    }\n",
       "\n",
       "    [theme=dark] .colab-df-convert {\n",
       "      background-color: #3B4455;\n",
       "      fill: #D2E3FC;\n",
       "    }\n",
       "\n",
       "    [theme=dark] .colab-df-convert:hover {\n",
       "      background-color: #434B5C;\n",
       "      box-shadow: 0px 1px 3px 1px rgba(0, 0, 0, 0.15);\n",
       "      filter: drop-shadow(0px 1px 2px rgba(0, 0, 0, 0.3));\n",
       "      fill: #FFFFFF;\n",
       "    }\n",
       "  </style>\n",
       "\n",
       "      <script>\n",
       "        const buttonEl =\n",
       "          document.querySelector('#df-1858c80a-adb5-4e7c-9a1c-2885bc4c4e3b button.colab-df-convert');\n",
       "        buttonEl.style.display =\n",
       "          google.colab.kernel.accessAllowed ? 'block' : 'none';\n",
       "\n",
       "        async function convertToInteractive(key) {\n",
       "          const element = document.querySelector('#df-1858c80a-adb5-4e7c-9a1c-2885bc4c4e3b');\n",
       "          const dataTable =\n",
       "            await google.colab.kernel.invokeFunction('convertToInteractive',\n",
       "                                                     [key], {});\n",
       "          if (!dataTable) return;\n",
       "\n",
       "          const docLinkHtml = 'Like what you see? Visit the ' +\n",
       "            '<a target=\"_blank\" href=https://colab.research.google.com/notebooks/data_table.ipynb>data table notebook</a>'\n",
       "            + ' to learn more about interactive tables.';\n",
       "          element.innerHTML = '';\n",
       "          dataTable['output_type'] = 'display_data';\n",
       "          await google.colab.output.renderOutput(dataTable, element);\n",
       "          const docLink = document.createElement('div');\n",
       "          docLink.innerHTML = docLinkHtml;\n",
       "          element.appendChild(docLink);\n",
       "        }\n",
       "      </script>\n",
       "    </div>\n",
       "  </div>\n"
      ],
      "text/plain": [
       "           model  train_loss  test_loss  train_f1   test_f1\n",
       "1            GRU    0.052169   0.227504  0.861029  0.555523\n",
       "4  LSTM+DO, mean    0.332380   0.160795  0.509138  0.526516\n",
       "3       LSTM+DO2    0.073383   0.227434  0.788922  0.517451\n",
       "2        LSTM+DO    0.334862   0.171626  0.497141  0.514782\n",
       "0           LSTM    0.047154   0.247909  0.871194  0.514368\n",
       "5   GRU+DO, mean    0.344698   0.172755  0.461551  0.485184"
      ]
     },
     "execution_count": 76,
     "metadata": {},
     "output_type": "execute_result"
    }
   ],
   "source": [
    "result_df.sort_values('test_f1', ascending=False)"
   ]
  },
  {
   "cell_type": "markdown",
   "metadata": {
    "id": "pB20v25v3Pu6"
   },
   "source": [
    " Наибольшее положительное влияние оказывает дропаут после линенйного слоя"
   ]
  },
  {
   "cell_type": "code",
   "execution_count": null,
   "metadata": {
    "id": "M5izk0fw3Vn-"
   },
   "outputs": [],
   "source": []
  }
 ],
 "metadata": {
  "accelerator": "GPU",
  "colab": {
   "gpuType": "T4",
   "provenance": []
  },
  "kernelspec": {
   "display_name": "Python 3",
   "language": "python",
   "name": "python3"
  },
  "language_info": {
   "codemirror_mode": {
    "name": "ipython",
    "version": 3
   },
   "file_extension": ".py",
   "mimetype": "text/x-python",
   "name": "python",
   "nbconvert_exporter": "python",
   "pygments_lexer": "ipython3",
   "version": "3.7.6"
  }
 },
 "nbformat": 4,
 "nbformat_minor": 1
}
